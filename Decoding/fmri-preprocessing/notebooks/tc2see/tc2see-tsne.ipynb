{
 "cells": [
  {
   "cell_type": "code",
   "execution_count": 1,
   "id": "4eb847a3-ecbd-484a-8e74-04b7465b8a68",
   "metadata": {},
   "outputs": [],
   "source": [
    "%load_ext autoreload\n",
    "%autoreload 2\n",
    "\n",
    "import os\n",
    "import sys\n",
    "import time\n",
    "from pprint import pprint\n",
    "from pathlib import Path\n",
    "from random import randint\n",
    "\n",
    "import numpy as np\n",
    "import torch\n",
    "import pandas as pd\n",
    "import matplotlib.pyplot as plt\n",
    "from ipywidgets import interact\n",
    "from tqdm.notebook import tqdm\n",
    "import nibabel as nib\n",
    "import glmsingle\n",
    "from glmsingle.glmsingle import GLM_single\n",
    "import bids\n",
    "from bids import BIDSLayout\n",
    "from scipy.ndimage import zoom, binary_dilation\n",
    "import h5py\n",
    "import nibabel as nib\n",
    "from einops import rearrange\n",
    "\n",
    "dir2 = os.path.abspath('..')\n",
    "dir1 = os.path.dirname(dir2)\n",
    "if not dir1 in sys.path: \n",
    "    sys.path.append(dir1)\n",
    "    \n",
    "from tc2see import load_data\n",
    "from utils import rand_cmap"
   ]
  },
  {
   "cell_type": "code",
   "execution_count": 2,
   "id": "b7aa9545-52b3-483c-8d56-e94e52c6f04d",
   "metadata": {},
   "outputs": [],
   "source": [
    "dataset_root = Path('D:\\\\Datasets')\n",
    "tc2see_version = 3 # [1, 2]\n",
    "dataset_path = dataset_root / f\"TC2See_v{tc2see_version}\"\n",
    "derivatives_path = dataset_path / 'derivatives_TC2See_prdgm'"
   ]
  },
  {
   "cell_type": "code",
   "execution_count": 4,
   "id": "a4699f3c-11c4-43d0-88fd-e6fdf2db6e0e",
   "metadata": {},
   "outputs": [
    {
     "data": {
      "text/plain": [
       "(132, 189156)"
      ]
     },
     "execution_count": 4,
     "metadata": {},
     "output_type": "execute_result"
    }
   ],
   "source": [
    "tr = 2 # 1.97\n",
    "subject = 'sub-04'\n",
    "run_ids = [2, 5]\n",
    "bold, stimulus_ids, mask, affine = load_data(\n",
    "    derivatives_path / f'tc2see-v{tc2see_version}-bold.hdf5', \n",
    "    subject,\n",
    "    tr_offset=6 / tr,\n",
    "    run_normalize='linear_trend',\n",
    "    interpolation=False,\n",
    "    run_ids=run_ids\n",
    ")\n",
    "bold.shape"
   ]
  },
  {
   "cell_type": "code",
   "execution_count": 5,
   "id": "bb731887-aa49-4db0-8a5b-ae74eac8653a",
   "metadata": {},
   "outputs": [
    {
     "data": {
      "text/plain": [
       "0"
      ]
     },
     "execution_count": 5,
     "metadata": {},
     "output_type": "execute_result"
    }
   ],
   "source": [
    "#nc_file = 'noise_ceiling/sub-01/sub-01__time-linspace_0_6_13__interpolation-false__noise-ceiling.nii.gz'\n",
    "nc_file = f'noise_ceiling/{subject}/{subject}__run_ids_2-5__noise-ceiling.nii.gz'\n",
    "nc_series = nib.load(derivatives_path / nc_file).get_fdata()\n",
    "component = 3 #8\n",
    "nc_volume = nc_series[..., component]\n",
    "nc_volume[:, :, :5] = 0.\n",
    "nc = nc_volume[mask]\n",
    "nc.shape\n",
    "\n",
    "nc_threshold = 20.\n",
    "X = bold[:, nc > nc_threshold]\n",
    "X_nan = np.isnan(X)\n",
    "X[X_nan] = 0.\n",
    "X_nan.sum()"
   ]
  },
  {
   "cell_type": "code",
   "execution_count": 6,
   "id": "770c2e17-be5a-4bca-9e87-ca55320ceec9",
   "metadata": {},
   "outputs": [],
   "source": [
    "model_name = 'ViT-B=32'\n",
    "embedding_name = 'embedding'\n",
    "\n",
    "with h5py.File(derivatives_path / f'{model_name}-features.hdf5', 'r') as f:\n",
    "    Y = f[embedding_name][:]\n",
    "Y_stimulus = Y[stimulus_ids]"
   ]
  },
  {
   "cell_type": "code",
   "execution_count": null,
   "id": "d1605cd1-94fd-47ff-a69f-aca7d7d00b1d",
   "metadata": {},
   "outputs": [],
   "source": [
    "unique_birds"
   ]
  },
  {
   "cell_type": "code",
   "execution_count": 7,
   "id": "dc941c92-2136-4c62-901a-5161facdbec4",
   "metadata": {},
   "outputs": [],
   "source": [
    "stimulus_images = h5py.File(derivatives_path / 'stimulus-images.hdf5', \"r\")\n",
    "image_names = list(stimulus_images.keys())\n",
    "image_names = [image_names[i] for i in stimulus_ids]\n",
    "image_names = np.array(image_names)\n",
    "\n",
    "images = [stimulus_images[name]['data'][:] for name in image_names]\n",
    "bird_class = np.array([stimulus_images[name].attrs['class_name'] for name in image_names])\n",
    "#bird_superclass = (bird_class > 131).astype(int)\n",
    "\n",
    "unique_birds, unique_indices = np.unique(bird_class, return_index=True)\n",
    "class_names = image_names[unique_indices]\n",
    "cmap = rand_cmap(unique_birds.shape[0], verbose=False)"
   ]
  },
  {
   "cell_type": "code",
   "execution_count": 8,
   "id": "cd8d58f1-90b7-4134-9723-d7fe77a35369",
   "metadata": {
    "tags": []
   },
   "outputs": [
    {
     "name": "stdout",
     "output_type": "stream",
     "text": [
      "[t-SNE] Computing 91 nearest neighbors...\n",
      "[t-SNE] Indexed 132 samples in 0.001s...\n",
      "[t-SNE] Computed neighbors for 132 samples in 0.001s...\n",
      "[t-SNE] Computed conditional probabilities for sample 132 / 132\n",
      "[t-SNE] Mean sigma: 0.309462\n",
      "[t-SNE] Computed conditional probabilities in 0.004s\n",
      "[t-SNE] Iteration 50: error = 58.6869888, gradient norm = 0.5689864 (50 iterations in 0.021s)\n",
      "[t-SNE] Iteration 100: error = 58.3411140, gradient norm = 0.5353738 (50 iterations in 0.020s)\n",
      "[t-SNE] Iteration 150: error = 58.5383339, gradient norm = 0.5436873 (50 iterations in 0.018s)\n",
      "[t-SNE] Iteration 200: error = 60.4231796, gradient norm = 0.5080736 (50 iterations in 0.019s)\n",
      "[t-SNE] Iteration 250: error = 58.3563232, gradient norm = 0.5774248 (50 iterations in 0.019s)\n",
      "[t-SNE] KL divergence after 250 iterations with early exaggeration: 58.356323\n",
      "[t-SNE] Iteration 300: error = 0.9168817, gradient norm = 0.0078661 (50 iterations in 0.019s)\n",
      "[t-SNE] Iteration 350: error = 0.6917804, gradient norm = 0.0054783 (50 iterations in 0.019s)\n",
      "[t-SNE] Iteration 400: error = 0.6336270, gradient norm = 0.0028508 (50 iterations in 0.018s)\n",
      "[t-SNE] Iteration 450: error = 0.6149458, gradient norm = 0.0014719 (50 iterations in 0.019s)\n",
      "[t-SNE] Iteration 500: error = 0.6129746, gradient norm = 0.0035050 (50 iterations in 0.017s)\n",
      "[t-SNE] Iteration 550: error = 0.6092390, gradient norm = 0.0003124 (50 iterations in 0.018s)\n",
      "[t-SNE] Iteration 600: error = 0.6089866, gradient norm = 0.0001948 (50 iterations in 0.020s)\n",
      "[t-SNE] Iteration 650: error = 0.6093827, gradient norm = 0.0003469 (50 iterations in 0.018s)\n",
      "[t-SNE] Iteration 700: error = 0.6090174, gradient norm = 0.0001803 (50 iterations in 0.018s)\n",
      "[t-SNE] Iteration 750: error = 0.6089615, gradient norm = 0.0001972 (50 iterations in 0.018s)\n",
      "[t-SNE] Iteration 800: error = 0.6091256, gradient norm = 0.0002862 (50 iterations in 0.017s)\n",
      "[t-SNE] Iteration 850: error = 0.6090624, gradient norm = 0.0002648 (50 iterations in 0.018s)\n",
      "[t-SNE] Iteration 900: error = 0.6090369, gradient norm = 0.0002700 (50 iterations in 0.018s)\n",
      "[t-SNE] Iteration 950: error = 0.6089916, gradient norm = 0.0003309 (50 iterations in 0.018s)\n",
      "[t-SNE] Iteration 1000: error = 0.6090136, gradient norm = 0.0003327 (50 iterations in 0.017s)\n",
      "[t-SNE] KL divergence after 1000 iterations: 0.609014\n"
     ]
    }
   ],
   "source": [
    "from sklearn.manifold import TSNE\n",
    "\n",
    "tsne = TSNE(\n",
    "    n_components=2, \n",
    "    metric='cosine', \n",
    "    init=\"pca\", \n",
    "    #learning_rate=\"auto\", \n",
    "    random_state=0,\n",
    "    verbose=10,\n",
    ")\n",
    "tsne.fit_transform(X)\n",
    "None"
   ]
  },
  {
   "cell_type": "code",
   "execution_count": 9,
   "id": "6ba09286-22cf-4576-9bca-1678a06db81b",
   "metadata": {},
   "outputs": [
    {
     "ename": "NameError",
     "evalue": "name 'y_class' is not defined",
     "output_type": "error",
     "traceback": [
      "\u001b[1;31m---------------------------------------------------------------------------\u001b[0m",
      "\u001b[1;31mNameError\u001b[0m                                 Traceback (most recent call last)",
      "Input \u001b[1;32mIn [9]\u001b[0m, in \u001b[0;36m<cell line: 6>\u001b[1;34m()\u001b[0m\n\u001b[0;32m      6\u001b[0m \u001b[38;5;28;01mfor\u001b[39;00m c, class_name \u001b[38;5;129;01min\u001b[39;00m \u001b[38;5;28mzip\u001b[39m(unique_birds, class_names):\n\u001b[0;32m      7\u001b[0m     \u001b[38;5;66;03m#y_class = y[c == unique_birds]\u001b[39;00m\n\u001b[0;32m      8\u001b[0m     name \u001b[38;5;241m=\u001b[39m class_name\u001b[38;5;66;03m#[4:-2].replace('_', ' ')\u001b[39;00m\n\u001b[1;32m----> 9\u001b[0m     plt\u001b[38;5;241m.\u001b[39mscatter(\u001b[43my_class\u001b[49m[:, \u001b[38;5;241m0\u001b[39m], y_class[:, \u001b[38;5;241m1\u001b[39m], label\u001b[38;5;241m=\u001b[39mname, marker\u001b[38;5;241m=\u001b[39m\u001b[38;5;124m'\u001b[39m\u001b[38;5;124mo\u001b[39m\u001b[38;5;124m'\u001b[39m)\u001b[38;5;66;03m# if 'Sparrow' in name else 'v')\u001b[39;00m\n\u001b[0;32m     10\u001b[0m plt\u001b[38;5;241m.\u001b[39mlegend(loc\u001b[38;5;241m=\u001b[39m\u001b[38;5;124m'\u001b[39m\u001b[38;5;124mupper left\u001b[39m\u001b[38;5;124m'\u001b[39m, bbox_to_anchor\u001b[38;5;241m=\u001b[39m(\u001b[38;5;241m1.0\u001b[39m, \u001b[38;5;241m1.0\u001b[39m))\n\u001b[0;32m     11\u001b[0m \u001b[38;5;66;03m#plt.savefig(out_path / f'{model_name}__{embedding_name}_scatter.png', bbox_inches='tight')\u001b[39;00m\n\u001b[0;32m     12\u001b[0m \u001b[38;5;66;03m#plt.savefig(out_path / f'bold_scatter.png', bbox_inches='tight')\u001b[39;00m\n",
      "\u001b[1;31mNameError\u001b[0m: name 'y_class' is not defined"
     ]
    },
    {
     "data": {
      "text/plain": [
       "<Figure size 1152x1152 with 0 Axes>"
      ]
     },
     "metadata": {},
     "output_type": "display_data"
    }
   ],
   "source": [
    "out_path = derivatives_path / 'tsne' / subject\n",
    "out_path.mkdir(exist_ok=True, parents=True)\n",
    "\n",
    "y = tsne.embedding_\n",
    "plt.figure(figsize=(16, 16))\n",
    "for c, class_name in zip(unique_birds, class_names):\n",
    "    #y_class = y[c == unique_birds]\n",
    "    name = class_name#[4:-2].replace('_', ' ')\n",
    "    plt.scatter(y_class[:, 0], y_class[:, 1], label=name, marker='o')# if 'Sparrow' in name else 'v')\n",
    "plt.legend(loc='upper left', bbox_to_anchor=(1.0, 1.0))\n",
    "#plt.savefig(out_path / f'{model_name}__{embedding_name}_scatter.png', bbox_inches='tight')\n",
    "#plt.savefig(out_path / f'bold_scatter.png', bbox_inches='tight')\n",
    "plt.show()"
   ]
  },
  {
   "cell_type": "code",
   "execution_count": 10,
   "id": "46c3070e-9758-4697-8943-ad1e7a71a60d",
   "metadata": {},
   "outputs": [],
   "source": [
    "#stimulus_images = h5py.File(derivatives_path / 'stimulus-images.hdf5', \"r\")\n",
    "#images = [image['data'][:] for image in stimulus_images.values()]\n",
    "\n",
    "image_size = 128\n",
    "num_images = 50\n",
    "S = image_size * num_images\n",
    "full_image = np.zeros(shape=(S, S, 3), dtype=np.ubyte)"
   ]
  },
  {
   "cell_type": "code",
   "execution_count": 11,
   "id": "7ce04be2-60b5-47bd-88a9-17f5fefadc93",
   "metadata": {},
   "outputs": [
    {
     "data": {
      "text/plain": [
       "(2500, 2)"
      ]
     },
     "execution_count": 11,
     "metadata": {},
     "output_type": "execute_result"
    }
   ],
   "source": [
    "extent = 20\n",
    "coords = np.linspace(-extent, extent, num_images)\n",
    "grid = np.stack(np.meshgrid(coords, coords))\n",
    "grid = rearrange(grid, 'd h w -> (h w) d')\n",
    "grid.shape"
   ]
  },
  {
   "cell_type": "code",
   "execution_count": 12,
   "id": "c52aab2c-af81-4f48-a65b-2aa8564deb65",
   "metadata": {},
   "outputs": [
    {
     "data": {
      "text/plain": [
       "(50, 50, 1)"
      ]
     },
     "execution_count": 12,
     "metadata": {},
     "output_type": "execute_result"
    }
   ],
   "source": [
    "from sklearn.neighbors import NearestNeighbors\n",
    "neighbors = NearestNeighbors(metric='chebyshev')\n",
    "neighbors.fit(y)\n",
    "\n",
    "distances, ids = neighbors.kneighbors(grid, n_neighbors=1,)\n",
    "distances = rearrange(distances, '(h w) d -> h w d', h=num_images)\n",
    "ids = rearrange(ids, '(h w) d -> h w d', h=num_images)\n",
    "ids.shape"
   ]
  },
  {
   "cell_type": "code",
   "execution_count": 13,
   "id": "9727a45c-0859-40a0-a4dc-734a6648d37a",
   "metadata": {},
   "outputs": [
    {
     "data": {
      "application/vnd.jupyter.widget-view+json": {
       "model_id": "fbe169f0de674e3b9a69fd7e38bf6f18",
       "version_major": 2,
       "version_minor": 0
      },
      "text/plain": [
       "  0%|          | 0/50 [00:00<?, ?it/s]"
      ]
     },
     "metadata": {},
     "output_type": "display_data"
    },
    {
     "name": "stderr",
     "output_type": "stream",
     "text": [
      "C:\\Users\\Cefir\\AppData\\Local\\Temp\\ipykernel_28056\\2617690204.py:12: DeprecationWarning: LANCZOS is deprecated and will be removed in Pillow 10 (2023-07-01). Use Resampling.LANCZOS instead.\n",
      "  stim_image = stim_image.resize(size=(image_size, image_size), resample=PIL.Image.LANCZOS)\n"
     ]
    }
   ],
   "source": [
    "import PIL\n",
    "from PIL import Image\n",
    "\n",
    "distance_threshold = extent / num_images\n",
    "for i in tqdm(range(num_images)):\n",
    "    for j in range(num_images):\n",
    "        if distances[i, j] > distance_threshold:\n",
    "            continue\n",
    "        stimulus_id = ids[i, j, 0]\n",
    "        stim_image = images[stimulus_id]\n",
    "        stim_image = Image.fromarray(stim_image)\n",
    "        stim_image = stim_image.resize(size=(image_size, image_size), resample=PIL.Image.LANCZOS)\n",
    "        stim_image = np.array(stim_image)\n",
    "        full_image[i * image_size:(i + 1) * image_size, j * image_size:(j + 1) * image_size] = stim_image\n",
    "full_image = full_image[:, ::-1]"
   ]
  },
  {
   "cell_type": "code",
   "execution_count": null,
   "id": "d52b3e8c-de11-4d4a-8eec-b941ad281086",
   "metadata": {},
   "outputs": [],
   "source": [
    "full_image.shape"
   ]
  },
  {
   "cell_type": "code",
   "execution_count": null,
   "id": "cfbe7e6f-7563-4576-97e1-e33bc5bcf820",
   "metadata": {},
   "outputs": [],
   "source": [
    "Image.fromarray(full_image).save(out_path / f'{model_name}__{embedding_name}.png')"
   ]
  },
  {
   "cell_type": "code",
   "execution_count": 14,
   "id": "865c27c7-b998-45ac-9782-5b4a17aa01d5",
   "metadata": {},
   "outputs": [],
   "source": [
    "Image.fromarray(full_image).save(out_path / f'bold__runs_2-5.png')"
   ]
  }
 ],
 "metadata": {
  "kernelspec": {
   "display_name": "fmri-preprocessing",
   "language": "python",
   "name": "fmri-preprocessing"
  },
  "language_info": {
   "codemirror_mode": {
    "name": "ipython",
    "version": 3
   },
   "file_extension": ".py",
   "mimetype": "text/x-python",
   "name": "python",
   "nbconvert_exporter": "python",
   "pygments_lexer": "ipython3",
   "version": "3.8.8"
  }
 },
 "nbformat": 4,
 "nbformat_minor": 5
}
