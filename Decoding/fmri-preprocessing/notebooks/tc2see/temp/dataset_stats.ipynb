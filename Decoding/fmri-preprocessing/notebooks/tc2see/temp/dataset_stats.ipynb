{
 "cells": [
  {
   "cell_type": "code",
   "execution_count": 7,
   "metadata": {},
   "outputs": [
    {
     "name": "stdout",
     "output_type": "stream",
     "text": [
      "The autoreload extension is already loaded. To reload it, use:\n",
      "  %reload_ext autoreload\n"
     ]
    }
   ],
   "source": [
    "%load_ext autoreload\n",
    "%autoreload 2\n",
    "\n",
    "import os\n",
    "import sys\n",
    "import time\n",
    "from pprint import pprint\n",
    "from pathlib import Path\n",
    "\n",
    "import numpy as np\n",
    "import pandas as pd\n",
    "import matplotlib.pyplot as plt\n",
    "from ipywidgets import interact\n",
    "from tqdm.notebook import tqdm\n",
    "import h5py\n",
    "\n",
    "import nibabel as nib\n",
    "from nilearn import surface\n",
    "import bids\n",
    "from bids import BIDSLayout\n",
    "\n",
    "dir2 = os.path.abspath('../')\n",
    "dir1 = os.path.dirname(dir2)\n",
    "if not dir1 in sys.path: \n",
    "    sys.path.append(dir1)\n",
    "    \n",
    "from noise_ceiling import (\n",
    "    compute_ncsnr,\n",
    "    compute_nc,\n",
    ")\n",
    "\n",
    "from tc2see import load_data"
   ]
  },
  {
   "cell_type": "code",
   "execution_count": 8,
   "metadata": {},
   "outputs": [
    {
     "name": "stdout",
     "output_type": "stream",
     "text": [
      "{'+': 6, 'docs/cropped/117.Clay_colored_Sparrow_0.png': 1, 'docs/cropped/117.Clay_colored_Sparrow_1.png': 1, 'docs/cropped/117.Clay_colored_Sparrow_2.png': 1, 'docs/cropped/117.Clay_colored_Sparrow_3.png': 1, 'docs/cropped/117.Clay_colored_Sparrow_4.png': 1, 'docs/cropped/129.Song_Sparrow_0.png': 1, 'docs/cropped/129.Song_Sparrow_1.png': 1, 'docs/cropped/129.Song_Sparrow_2.png': 1, 'docs/cropped/129.Song_Sparrow_3.png': 1, 'docs/cropped/129.Song_Sparrow_4.png': 1, 'docs/cropped/161.Blue_winged_Warbler_0.png': 1, 'docs/cropped/161.Blue_winged_Warbler_1.png': 1, 'docs/cropped/161.Blue_winged_Warbler_2.png': 1, 'docs/cropped/161.Blue_winged_Warbler_3.png': 1, 'docs/cropped/161.Blue_winged_Warbler_4.png': 1, 'docs/cropped/172.Nashville_Warbler_0.png': 1, 'docs/cropped/172.Nashville_Warbler_1.png': 1, 'docs/cropped/172.Nashville_Warbler_2.png': 1, 'docs/cropped/172.Nashville_Warbler_3.png': 1, 'docs/cropped/172.Nashville_Warbler_4.png': 1, 'docs/cropped/173.Orange_crowned_Warbler_0.png': 1, 'docs/cropped/173.Orange_crowned_Warbler_1.png': 1, 'docs/cropped/173.Orange_crowned_Warbler_2.png': 1, 'docs/cropped/173.Orange_crowned_Warbler_3.png': 1, 'docs/cropped/173.Orange_crowned_Warbler_4.png': 1, 'docs/cropped/116.Chipping_Sparrow_0.png': 1, 'docs/cropped/116.Chipping_Sparrow_1.png': 1, 'docs/cropped/116.Chipping_Sparrow_2.png': 1, 'docs/cropped/116.Chipping_Sparrow_3.png': 1, 'docs/cropped/116.Chipping_Sparrow_4.png': 1, 'docs/cropped/130.Tree_Sparrow_0.png': 1, 'docs/cropped/130.Tree_Sparrow_1.png': 1, 'docs/cropped/130.Tree_Sparrow_2.png': 1, 'docs/cropped/130.Tree_Sparrow_3.png': 1, 'docs/cropped/130.Tree_Sparrow_4.png': 1, 'docs/cropped/131.Vesper_Sparrow_0.png': 1, 'docs/cropped/131.Vesper_Sparrow_1.png': 1, 'docs/cropped/131.Vesper_Sparrow_2.png': 1, 'docs/cropped/131.Vesper_Sparrow_3.png': 1, 'docs/cropped/131.Vesper_Sparrow_4.png': 1, 'docs/cropped/176.Prairie_Warbler_0.png': 1, 'docs/cropped/176.Prairie_Warbler_1.png': 1, 'docs/cropped/176.Prairie_Warbler_2.png': 1, 'docs/cropped/176.Prairie_Warbler_3.png': 1, 'docs/cropped/176.Prairie_Warbler_4.png': 1, 'docs/cropped/179.Tennessee_Warbler_0.png': 1, 'docs/cropped/179.Tennessee_Warbler_1.png': 1, 'docs/cropped/179.Tennessee_Warbler_2.png': 1, 'docs/cropped/179.Tennessee_Warbler_3.png': 1, 'docs/cropped/179.Tennessee_Warbler_4.png': 1, 'docs/cropped/119.Field_Sparrow_0.png': 1, 'docs/cropped/119.Field_Sparrow_1.png': 1, 'docs/cropped/119.Field_Sparrow_2.png': 1, 'docs/cropped/119.Field_Sparrow_3.png': 1, 'docs/cropped/119.Field_Sparrow_4.png': 1, 'docs/cropped/123.Henslow_Sparrow_0.png': 1, 'docs/cropped/123.Henslow_Sparrow_1.png': 1, 'docs/cropped/123.Henslow_Sparrow_2.png': 1, 'docs/cropped/123.Henslow_Sparrow_3.png': 1, 'docs/cropped/123.Henslow_Sparrow_4.png': 1, 'docs/cropped/168.Kentucky_Warbler_0.png': 1, 'docs/cropped/168.Kentucky_Warbler_1.png': 1, 'docs/cropped/168.Kentucky_Warbler_2.png': 1, 'docs/cropped/168.Kentucky_Warbler_3.png': 1, 'docs/cropped/168.Kentucky_Warbler_4.png': 1, 'docs/cropped/174.Palm_Warbler_0.png': 1, 'docs/cropped/174.Palm_Warbler_1.png': 1, 'docs/cropped/174.Palm_Warbler_2.png': 1, 'docs/cropped/174.Palm_Warbler_3.png': 1, 'docs/cropped/174.Palm_Warbler_4.png': 1, 'docs/cropped/182.Yellow_Warbler_0.png': 1, 'docs/cropped/182.Yellow_Warbler_1.png': 1, 'docs/cropped/182.Yellow_Warbler_2.png': 1, 'docs/cropped/182.Yellow_Warbler_3.png': 1, 'docs/cropped/182.Yellow_Warbler_4.png': 1, 'docs/cropped/118.House_Sparrow_0.png': 1, 'docs/cropped/118.House_Sparrow_1.png': 1, 'docs/cropped/118.House_Sparrow_2.png': 1, 'docs/cropped/118.House_Sparrow_3.png': 1, 'docs/cropped/118.House_Sparrow_4.png': 1, 'docs/cropped/126.Nelson_Sharp_tailed_Sparrow_0.png': 1, 'docs/cropped/126.Nelson_Sharp_tailed_Sparrow_1.png': 1, 'docs/cropped/126.Nelson_Sharp_tailed_Sparrow_2.png': 1, 'docs/cropped/126.Nelson_Sharp_tailed_Sparrow_3.png': 1, 'docs/cropped/126.Nelson_Sharp_tailed_Sparrow_4.png': 1, 'docs/cropped/127.Savannah_Sparrow_0.png': 1, 'docs/cropped/127.Savannah_Sparrow_1.png': 1, 'docs/cropped/127.Savannah_Sparrow_2.png': 1, 'docs/cropped/127.Savannah_Sparrow_3.png': 1, 'docs/cropped/127.Savannah_Sparrow_4.png': 1, 'docs/cropped/167.Hooded_Warbler_0.png': 1, 'docs/cropped/167.Hooded_Warbler_1.png': 1, 'docs/cropped/167.Hooded_Warbler_2.png': 1, 'docs/cropped/167.Hooded_Warbler_3.png': 1, 'docs/cropped/167.Hooded_Warbler_4.png': 1, 'docs/cropped/170.Mourning_Warbler_0.png': 1, 'docs/cropped/170.Mourning_Warbler_1.png': 1, 'docs/cropped/170.Mourning_Warbler_2.png': 1, 'docs/cropped/170.Mourning_Warbler_3.png': 1, 'docs/cropped/170.Mourning_Warbler_4.png': 1, 'docs/cropped/115.Brewer_Sparrow_0.png': 1, 'docs/cropped/115.Brewer_Sparrow_1.png': 1, 'docs/cropped/115.Brewer_Sparrow_2.png': 1, 'docs/cropped/115.Brewer_Sparrow_3.png': 1, 'docs/cropped/115.Brewer_Sparrow_4.png': 1, 'docs/cropped/125.Lincoln_Sparrow_0.png': 1, 'docs/cropped/125.Lincoln_Sparrow_1.png': 1, 'docs/cropped/125.Lincoln_Sparrow_2.png': 1, 'docs/cropped/125.Lincoln_Sparrow_3.png': 1, 'docs/cropped/125.Lincoln_Sparrow_4.png': 1, 'docs/cropped/162.Canada_Warbler_0.png': 1, 'docs/cropped/162.Canada_Warbler_1.png': 1, 'docs/cropped/162.Canada_Warbler_2.png': 1, 'docs/cropped/162.Canada_Warbler_3.png': 1, 'docs/cropped/162.Canada_Warbler_4.png': 1, 'docs/cropped/169.Magnolia_Warbler_0.png': 1, 'docs/cropped/169.Magnolia_Warbler_1.png': 1, 'docs/cropped/169.Magnolia_Warbler_2.png': 1, 'docs/cropped/169.Magnolia_Warbler_3.png': 1, 'docs/cropped/169.Magnolia_Warbler_4.png': 1, 'docs/cropped/180.Wilson_Warbler_0.png': 1, 'docs/cropped/180.Wilson_Warbler_1.png': 1, 'docs/cropped/180.Wilson_Warbler_2.png': 1, 'docs/cropped/180.Wilson_Warbler_3.png': 1, 'docs/cropped/180.Wilson_Warbler_4.png': 1, 'docs/cropped/113.Baird_Sparrow_0.png': 1, 'docs/cropped/113.Baird_Sparrow_1.png': 1, 'docs/cropped/113.Baird_Sparrow_2.png': 1, 'docs/cropped/113.Baird_Sparrow_3.png': 1, 'docs/cropped/113.Baird_Sparrow_4.png': 1, 'docs/cropped/121.Grasshopper_Sparrow_0.png': 1, 'docs/cropped/121.Grasshopper_Sparrow_1.png': 1, 'docs/cropped/121.Grasshopper_Sparrow_2.png': 1, 'docs/cropped/121.Grasshopper_Sparrow_3.png': 1, 'docs/cropped/121.Grasshopper_Sparrow_4.png': 1, 'docs/cropped/124.Le_Conte_Sparrow_0.png': 1, 'docs/cropped/124.Le_Conte_Sparrow_1.png': 1, 'docs/cropped/124.Le_Conte_Sparrow_2.png': 1, 'docs/cropped/124.Le_Conte_Sparrow_3.png': 1, 'docs/cropped/124.Le_Conte_Sparrow_4.png': 1, 'docs/cropped/163.Cape_May_Warbler_0.png': 1, 'docs/cropped/163.Cape_May_Warbler_1.png': 1, 'docs/cropped/163.Cape_May_Warbler_2.png': 1, 'docs/cropped/163.Cape_May_Warbler_3.png': 1, 'docs/cropped/163.Cape_May_Warbler_4.png': 1, 'docs/cropped/175.Pine_Warbler_0.png': 1, 'docs/cropped/175.Pine_Warbler_1.png': 1, 'docs/cropped/175.Pine_Warbler_2.png': 1, 'docs/cropped/175.Pine_Warbler_3.png': 1, 'docs/cropped/175.Pine_Warbler_4.png': 1}\n",
      "151\n"
     ]
    }
   ],
   "source": [
    "ids = {}\n",
    "for i in range(1,7):\n",
    "    x = pd.read_csv(f\"E:/fmri_processing/results/TC2See/sub-20/func/sub-20_task-bird_run-{i}_events.tsv\", sep='\\t')\n",
    "    unique_ids = np.unique(x['stimulus'])\n",
    "    for id in unique_ids:\n",
    "        if id not in ids:\n",
    "            ids[id] = 1\n",
    "        else:\n",
    "            ids[id] += 1\n",
    "print(ids)\n",
    "print(len(ids.items()))"
   ]
  },
  {
   "cell_type": "code",
   "execution_count": 18,
   "metadata": {},
   "outputs": [
    {
     "name": "stdout",
     "output_type": "stream",
     "text": [
      "Images in run 1:  75\n",
      "Unique images in run 1:  25\n",
      "\n",
      "Images in all runs:  450\n",
      "Unique images in all runs:  150\n"
     ]
    }
   ],
   "source": [
    "run_paths = [f\"E:/fmri_processing/results/TC2See/sub-20/func/sub-20_task-bird_run-{i}_events.tsv\" for i in range(1,7)]\n",
    "pd_runs = [pd.read_csv(fn, sep='\\t') for fn in run_paths]\n",
    "\n",
    "run_1 = pd_runs[0]\n",
    "run_1 = run_1[run_1['stimulus'] != '+']\n",
    "run_1_images = run_1['stimulus']\n",
    "print(\"Images in run 1: \", len(run_1_images))\n",
    "print(\"Unique images in run 1: \", len(np.unique(run_1_images)))\n",
    "\n",
    "all_runs = pd.concat(pd_runs)\n",
    "all_runs = all_runs[all_runs['stimulus'] != '+']\n",
    "all_runs_images = all_runs['stimulus']\n",
    "print(\"\\nImages in all runs: \", len(all_runs_images))\n",
    "print(\"Unique images in all runs: \", len(np.unique(all_runs_images)))"
   ]
  },
  {
   "cell_type": "code",
   "execution_count": 10,
   "metadata": {},
   "outputs": [],
   "source": [
    "# run_paths = [f\"E:/fmri_processing/results/TC2See/sub-20/func/sub-20_task-bird_run-{i}_events.tsv\" for i in range(1,7)]\n",
    "# pd_runs = [pd.read_csv(fn, sep='\\t') for fn in run_paths]\n",
    "# all_runs = pd.concat(pd_runs)\n",
    "\n",
    "# all_runs_stimulus = np.unique(all_runs['stimulus'])\n",
    "# print(len(all_runs_stimulus))\n",
    "# print(all_runs_stimulus)"
   ]
  },
  {
   "cell_type": "code",
   "execution_count": 11,
   "metadata": {},
   "outputs": [
    {
     "data": {
      "text/plain": [
       "26"
      ]
     },
     "execution_count": 11,
     "metadata": {},
     "output_type": "execute_result"
    }
   ],
   "source": [
    "len(np.unique(x['stimulus']))\n"
   ]
  },
  {
   "cell_type": "code",
   "execution_count": 12,
   "metadata": {},
   "outputs": [
    {
     "data": {
      "text/plain": [
       "76.0"
      ]
     },
     "execution_count": 12,
     "metadata": {},
     "output_type": "execute_result"
    }
   ],
   "source": [
    "len(x['stimulus'])/2\n"
   ]
  },
  {
   "cell_type": "code",
   "execution_count": null,
   "metadata": {},
   "outputs": [],
   "source": []
  }
 ],
 "metadata": {
  "kernelspec": {
   "display_name": "representationsLab",
   "language": "python",
   "name": "python3"
  },
  "language_info": {
   "codemirror_mode": {
    "name": "ipython",
    "version": 3
   },
   "file_extension": ".py",
   "mimetype": "text/x-python",
   "name": "python",
   "nbconvert_exporter": "python",
   "pygments_lexer": "ipython3",
   "version": "3.11.7"
  }
 },
 "nbformat": 4,
 "nbformat_minor": 2
}
