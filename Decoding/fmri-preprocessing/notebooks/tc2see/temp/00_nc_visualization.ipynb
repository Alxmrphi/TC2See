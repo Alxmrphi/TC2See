{
 "cells": [
  {
   "cell_type": "code",
   "execution_count": 2,
   "metadata": {},
   "outputs": [],
   "source": [
    "import numpy as np\n",
    "import matplotlib.pyplot as plt\n",
    "import nilearn \n",
    "\n",
    "from nilearn import image\n",
    "from pathlib import Path"
   ]
  },
  {
   "cell_type": "code",
   "execution_count": null,
   "metadata": {},
   "outputs": [],
   "source": [
    "subjects = ['06', '15','19', '21', '22', '08', '09', '11', '12', '16', '24']\n",
    "all_sub_top_indices = []\n",
    "\n",
    "# fig, axs = plt.subplots(3, 5, figsize=(16, 12))\n",
    "\n",
    "# # Flatten the subplot array for easy iteration\n",
    "# axs_flat = axs.flatten()\n",
    "\n",
    "for i, subject in enumerate(subjects):\n",
    "    nc_file = Path(f'E:/fmri_processing/results/visualization/sub-{subject}/sub-{subject}_nc_volume.nii.gz')\n",
    "    nc = image.load_img(nc_file).get_fdata()\n",
    "\n",
    "    nc_flat = nc.flatten()\n",
    "\n",
    "    ind_1d = nc_flat.argsort()[-1000:]\n",
    "    ind_x, ind_y, ind_z = np.unravel_index(ind_1d, nc.shape)\n",
    "    top_indices = np.column_stack((ind_x, ind_y, ind_z))\n",
    "\n",
    "    plt.figure(figsize=(8, 6))\n",
    "    plt.hist(top_indices[:, 1], bins=10, label=f'Subject {subject}')\n",
    "    plt.title(f'Posterior to Anterior Voxel Count', fontsize=16)\n",
    "    plt.xlabel('Voxel Position', fontsize=16)\n",
    "    plt.ylabel('Number of Voxels', fontsize=16)\n",
    "    plt.legend()\n",
    "\n",
    "    plt.savefig(f'E:/fmri_processing/results/visualization/sub-{subject}/sub-{subject}_histogram_10res_top256.png')\n",
    "    plt.show()\n",
    "    plt.close()\n",
    "\n",
    "\n",
    "#     axs_flat[i].hist(top_indices[:, 1], bins=10, label=f'Subject {subject}')\n",
    "#     # axs_flat[i].hist(top_indices[:, 1], bins=10, label=f'Subject {subject}', range=[15, 80])\n",
    "#     axs_flat[i].set_title(f'Histogram of voxel on anterior-posterior axis (lower = further back)')\n",
    "#     axs_flat[i].set_xlabel('Voxel Position')\n",
    "#     axs_flat[i].set_ylabel('Number of Voxels')\n",
    "#     axs_flat[i].legend()\n",
    "\n",
    "#     # Store top indices for later use if needed\n",
    "#     all_sub_top_indices.append(top_indices)\n",
    "\n",
    "# # Adjust layout for better spacing between subplots\n",
    "# plt.tight_layout()\n",
    "\n",
    "# # Show the plots\n",
    "# plt.show()"
   ]
  },
  {
   "cell_type": "markdown",
   "metadata": {},
   "source": [
    "1st dimension (left-to-right), lowest = left, highest = right\n",
    "2nd dimension (anterior-posterior), lowest = back of brain, highest = front\n",
    "3rd dimension (rostral-caudal), lowest = bottom, highest = top"
   ]
  },
  {
   "cell_type": "code",
   "execution_count": 38,
   "metadata": {},
   "outputs": [
    {
     "name": "stdout",
     "output_type": "stream",
     "text": [
      "subjects=['08', '09', '11', '12', '16']\n",
      "average_counts=[446.6, 223.8, 68.2, 55.8, 46.0, 56.6, 44.6, 35.6, 22.0, 12.8]\n"
     ]
    }
   ],
   "source": [
    "# subjects = ['06', '15','19', '21', '22', '08', '09', '11', '12', '16', '24']\n",
    "\n",
    "# subjects = ['06', '15','19', '20', '21', '22', '23']\n",
    "# subjects = ['06', '15','19', '21', '22']\n",
    "\n",
    "subjects = ['08', '09', '11', '12', '16']\n",
    "\n",
    "counts_list = []\n",
    "\n",
    "for i, subject in enumerate(subjects):\n",
    "    nc_file = Path(f'E:/fmri_processing/results/visualization/sub-{subject}/sub-{subject}_nc_volume.nii.gz')\n",
    "    nc = image.load_img(nc_file).get_fdata()\n",
    "\n",
    "    nc_flat = nc.flatten()\n",
    "\n",
    "    ind_1d = nc_flat.argsort()[-1012:]\n",
    "    ind_x, ind_y, ind_z = np.unravel_index(ind_1d, nc.shape)\n",
    "    top_indices = np.column_stack((ind_x, ind_y, ind_z))\n",
    "\n",
    "    # Compute histogram-like count values\n",
    "    counts, edges = np.histogramdd(top_indices[:,1], bins=10)\n",
    "    counts_list.append(counts)\n",
    "\n",
    "average_counts = np.mean(counts_list, axis=0)\n",
    "average_counts = [round(avg,2) for avg in average_counts]\n",
    "print(f'{subjects=}')\n",
    "print(f'{average_counts=}')"
   ]
  },
  {
   "cell_type": "code",
   "execution_count": null,
   "metadata": {},
   "outputs": [],
   "source": [
    "# top 1012\n",
    "# subjects=['06', '15', '19', '20', '21', '22', '23'] \n",
    "# average_counts=[370.0, 267.14, 77.71, 59.14, 56.57, 60.86, 50.29, 31.57, 24.14, 14.57]\n",
    "\n",
    "# top 1012\n",
    "# subjects=['06', '15', '19', '21', '22']\n",
    "# average_counts=[450.8, 302.6, 65.2, 39.2, 37.0, 39.0, 30.8, 24.8, 14.0, 8.6]\n",
    "\n",
    "# top 1012\n",
    "# subjects=['08', '09', '11', '12', '16']\n",
    "# average_counts=[446.6, 223.8, 68.2, 55.8, 46.0, 56.6, 44.6, 35.6, 22.0, 12.8]\n",
    "\n",
    "\n",
    "# top 256\n",
    "# subjects=['06', '15', '19', '20', '21', '22', '23'] \n",
    "# average_counts=[91.0, 89.57, 40.14, 10.57, 7.57, 3.86, 5.57, 3.29, 1.57, 2.86]\n",
    "\n",
    "# top 256\n",
    "# subjects=['06', '15', '19', '21', '22']\n",
    "# average_counts=[101.6, 100.2, 39.4, 8.2, 4.4, 0.2, 0.6, 0.4, 0.0, 1.0]\n",
    "\n",
    "# top 256\n",
    "# subjects=['08', '09', '11', '12', '16']\n",
    "# average_counts=[99.0, 69.0, 31.8, 25.2, 8.2, 9.6, 4.4, 3.0, 3.0, 2.8]"
   ]
  },
  {
   "cell_type": "code",
   "execution_count": 15,
   "metadata": {},
   "outputs": [
    {
     "name": "stdout",
     "output_type": "stream",
     "text": [
      "[ 76.6  -43.34  -9.51  -3.34 -10.57  -4.26  -5.69   4.03  -2.14  -1.77]\n"
     ]
    }
   ],
   "source": [
    "print(\n",
    "        np.array([446.6, 223.8, 68.2, 55.8, 46.0, 56.6, 44.6, 35.6, 22.0, 12.8]) \n",
    "      - np.array([370.0, 267.14, 77.71, 59.14, 56.57, 60.86, 50.29, 31.57, 24.14, 14.57])\n",
    "      )"
   ]
  },
  {
   "cell_type": "code",
   "execution_count": 44,
   "metadata": {},
   "outputs": [
    {
     "data": {
      "image/png": "[encoded data removed]",
      "text/plain": [
       "<Figure size 640x480 with 1 Axes>"
      ]
     },
     "metadata": {},
     "output_type": "display_data"
    }
   ],
   "source": [
    "plt.bar(range(10), np.array([450.8, 302.6, 65.2, 39.2, 37.0, 39.0, 30.8, 24.8, 14.0, 8.6]), color='blue', label='Low', alpha=0.7)\n",
    "plt.bar(range(10), np.array([446.6, 223.8, 68.2, 55.8, 46.0, 56.6, 44.6, 35.6, 22.0, 12.8]), color='green', label='High', alpha=0.7)\n",
    "plt.title(\"Low and High Quiz Score\")\n",
    "plt.xlabel(\"Bin\")\n",
    "plt.ylabel(\"Count\")\n",
    "plt.ylim(0, 480)\n",
    "plt.legend()\n",
    "plt.show()"
   ]
  },
  {
   "cell_type": "markdown",
   "metadata": {},
   "source": [
    "Do this for the 10 subjects, 5 low scoring, 5 high scoring. \n",
    "Plot them together in a (5,2) plot and we can compare if there is a difference or not"
   ]
  }
 ],
 "metadata": {
  "kernelspec": {
   "display_name": "mne",
   "language": "python",
   "name": "python3"
  },
  "language_info": {
   "codemirror_mode": {
    "name": "ipython",
    "version": 3
   },
   "file_extension": ".py",
   "mimetype": "text/x-python",
   "name": "python",
   "nbconvert_exporter": "python",
   "pygments_lexer": "ipython3",
   "version": "3.11.7"
  }
 },
 "nbformat": 4,
 "nbformat_minor": 2
}
