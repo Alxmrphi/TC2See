{
 "cells": [
  {
   "cell_type": "code",
   "execution_count": 17,
   "metadata": {},
   "outputs": [],
   "source": [
    "import os\n",
    "import sys\n",
    "from nilearn import image\n",
    "from pathlib import Path\n",
    "import nibabel as nib\n",
    "import matplotlib.pyplot as plt\n",
    "import numpy as np\n",
    "import bids\n",
    "from bids import BIDSLayout\n",
    "\n",
    "dir2 = os.path.abspath('../..')\n",
    "dir1 = os.path.dirname(dir2)\n",
    "if not dir1 in sys.path: \n",
    "    sys.path.append(dir1)\n",
    "\n",
    "from tc2see import load_data\n",
    "\n",
    "from noise_ceiling import (\n",
    "    compute_ncsnr,\n",
    "    compute_nc,\n",
    ")"
   ]
  },
  {
   "cell_type": "code",
   "execution_count": 18,
   "metadata": {},
   "outputs": [
    {
     "name": "stderr",
     "output_type": "stream",
     "text": [
      "c:\\Users\\James\\anaconda3\\envs\\representationsLab\\Lib\\site-packages\\bids\\layout\\layout.py:516: UserWarning: Derivative indexing was requested, but no valid datasets were found in the specified locations ([WindowsPath('E:/fmri_processing/results/derivatives_TC2See/fmriprep/derivatives')]). Note that all BIDS-Derivatives datasets must meet all the requirements for BIDS-Raw datasets (a common problem is to fail to include a 'dataset_description.json' file in derivatives datasets).\n",
      "Example contents of 'dataset_description.json':\n",
      "{\"Name\": \"Example dataset\", \"BIDSVersion\": \"1.0.2\", \"GeneratedBy\": [{\"Name\": \"Example pipeline\"}]}\n",
      "  warnings.warn(\"Derivative indexing was requested, but no valid \"\n"
     ]
    }
   ],
   "source": [
    "dataset_root = Path('E:\\\\fmri_processing\\\\results')\n",
    "tc2see_version = 3\n",
    "dataset_path = dataset_root\n",
    "derivatives_path = dataset_path / 'derivatives_TC2See'\n",
    "data_path = derivatives_path / 'fmriprep'\n",
    "\n",
    "dataset_layout = BIDSLayout(dataset_path / 'TC2See')\n",
    "derivatives_layout = BIDSLayout(derivatives_path / 'fmriprep', derivatives=True, validate = False)"
   ]
  },
  {
   "cell_type": "code",
   "execution_count": 20,
   "metadata": {},
   "outputs": [
    {
     "name": "stdout",
     "output_type": "stream",
     "text": [
      "Saving files for subject 34 at: E:\\fmri_processing\\results\\visualization\\sub-34\n"
     ]
    }
   ],
   "source": [
    "exclude_list = [13]\n",
    "subject_nums = [sub for sub in range(5,35) if sub not in exclude_list]\n",
    "# subject_nums = [34]\n",
    "\n",
    "for sub in subject_nums:\n",
    "    subject_no = str(sub) if sub >= 10 else '0'+str(sub)\n",
    "    num_runs = 6\n",
    "    tr = 2\n",
    "    task = \"bird\"\n",
    "    space = 'T1w'\n",
    "\n",
    "    load_data_params = dict(\n",
    "        path = data_path / f'tc2see-v{tc2see_version}-bold.hdf5', \n",
    "        subject = f'sub-{subject_no}',\n",
    "        tr_offset = 6 / tr,\n",
    "        run_normalize='linear_trend',\n",
    "        interpolation=False,\n",
    "    )\n",
    "\n",
    "    training_run_ids = list(range(num_runs))\n",
    "    bold_train, stimulus_ids_train, mask, affine = load_data(\n",
    "        **load_data_params,\n",
    "        run_ids = training_run_ids\n",
    "    )\n",
    "\n",
    "    ncsnr = compute_ncsnr(bold_train, stimulus_ids_train) # Compute noise ceiling noise ratio\n",
    "    nc = compute_nc(ncsnr, num_averages=1)\n",
    "    nc_volume = np.zeros_like(mask, dtype=float)\n",
    "    nc_volume[mask] = nc\n",
    "\n",
    "    bird_data_folder = Path(f'E:/fmri_processing/results/derivatives_TC2See/fmriprep/sub-{subject_no}')\n",
    "    func_file = Path(bird_data_folder / f'func/sub-{subject_no}_task-bird_run-1_space-T1w_desc-preproc_bold.nii.gz')\n",
    "    vis_file = Path(f'E:/fmri_processing/results/visualization/sub-{subject_no}')\n",
    "\n",
    "    func_data = image.load_img(func_file) # load functional data which has a temporal dimension\n",
    "    mean_func_data = image.mean_img(func_data) # take the average to just get a 3-dimensional representation\n",
    "\n",
    "    nc_volume_img = nib.Nifti1Image(nc_volume, affine=mean_func_data.affine)\n",
    "\n",
    "    if not Path(vis_file).exists():\n",
    "        Path(vis_file).mkdir(exist_ok=True)\n",
    "\n",
    "    print(f\"Saving files for subject {sub} at: {vis_file}\")\n",
    "    nib.save(nc_volume_img, vis_file / f'sub-{subject_no}_nc_volume.nii.gz')"
   ]
  },
  {
   "cell_type": "code",
   "execution_count": null,
   "metadata": {},
   "outputs": [],
   "source": []
  }
 ],
 "metadata": {
  "kernelspec": {
   "display_name": "representationsLab",
   "language": "python",
   "name": "python3"
  },
  "language_info": {
   "codemirror_mode": {
    "name": "ipython",
    "version": 3
   },
   "file_extension": ".py",
   "mimetype": "text/x-python",
   "name": "python",
   "nbconvert_exporter": "python",
   "pygments_lexer": "ipython3",
   "version": "3.11.7"
  }
 },
 "nbformat": 4,
 "nbformat_minor": 2
}
