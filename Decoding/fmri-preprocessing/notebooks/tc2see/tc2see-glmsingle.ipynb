{
 "cells": [
  {
   "cell_type": "code",
   "execution_count": 1,
   "id": "ef63166b-43ba-49b3-9392-6c24355a9af1",
   "metadata": {},
   "outputs": [],
   "source": [
    "%load_ext autoreload\n",
    "%autoreload 2\n",
    "\n",
    "import os\n",
    "import sys\n",
    "from pprint import pprint\n",
    "from pathlib import Path\n",
    "from random import randint\n",
    "\n",
    "import numpy as np\n",
    "import pandas as pd\n",
    "import matplotlib.pyplot as plt\n",
    "from ipywidgets import interact\n",
    "from tqdm.notebook import tqdm\n",
    "import nibabel as nib\n",
    "import glmsingle\n",
    "from glmsingle.glmsingle import GLM_single\n",
    "import bids\n",
    "from bids import BIDSLayout\n",
    "from scipy.ndimage import zoom\n",
    "\n",
    "dir2 = os.path.abspath('..')\n",
    "dir1 = os.path.dirname(dir2)\n",
    "if not dir1 in sys.path: \n",
    "    sys.path.append(dir1)\n",
    "\n",
    "from glmsingle_utils import (\n",
    "    load_results, \n",
    "    plot_results,\n",
    "    save_results\n",
    ")"
   ]
  },
  {
   "cell_type": "code",
   "execution_count": 2,
   "id": "9e26d95e-6ea6-453d-8e86-d54adb2bc34b",
   "metadata": {},
   "outputs": [
    {
     "name": "stdin",
     "output_type": "stream",
     "text": [
      "  D:/Datasets\n"
     ]
    }
   ],
   "source": [
    "# Enter the parent directory of the TC2See dataset folder\n",
    "dataset_root = Path(input())"
   ]
  },
  {
   "cell_type": "code",
   "execution_count": 10,
   "id": "e94ea715-78db-4a86-850d-184843ba8ec1",
   "metadata": {},
   "outputs": [],
   "source": [
    "tc2see_version = 1 # [1, 2]\n",
    "dataset_path = dataset_root / f\"TC2See_v{tc2see_version}\"\n",
    "num_runs = 6 if tc2see_version == 1 else 8\n",
    "\n",
    "subject = '01'  # ['01', '02']\n",
    "task = \"bird\"\n",
    "space = 'T1w' # ['T1w', 'MNI152NLin2009cAsym']\n",
    "tr = 1.97\n",
    "resample_tr = tr # Optionally resample the tr to something else\n",
    "\n",
    "# Initialize BIDSLayouts for querying files.\n",
    "dataset_layout = BIDSLayout(dataset_path / 'TC2See_prdgm')\n",
    "derivatives_layout = BIDSLayout(dataset_path / 'derivatives_TC2See_prdgm/fmriprep')"
   ]
  },
  {
   "cell_type": "code",
   "execution_count": 11,
   "id": "705317ac",
   "metadata": {
    "collapsed": false,
    "jupyter": {
     "outputs_hidden": false
    },
    "pycharm": {
     "name": "#%%\n"
    }
   },
   "outputs": [
    {
     "data": {
      "application/vnd.jupyter.widget-view+json": {
       "model_id": "5747d7224d014a9a8a8aca7b9115610a",
       "version_major": 2,
       "version_minor": 0
      },
      "text/plain": [
       "  0%|          | 0/6 [00:00<?, ?it/s]"
      ]
     },
     "metadata": {},
     "output_type": "display_data"
    }
   ],
   "source": [
    "# Collect all BOLD images for each run (as nibabel images) and event information (as pandas dataframes)\n",
    "run_images = []\n",
    "events_dfs = []\n",
    "\n",
    "for run_id in tqdm(range(1, num_runs + 1)):\n",
    "    \n",
    "    # Get the BOLD image\n",
    "    bids_image = derivatives_layout.get(\n",
    "        subject=subject,\n",
    "        run=run_id,\n",
    "        space=space, \n",
    "        task=task,\n",
    "        desc='preproc', \n",
    "        extension='nii.gz'\n",
    "    )[0]\n",
    "    nibabel_image = bids_image.get_image()\n",
    "    run_images.append(nibabel_image)\n",
    "    \n",
    "    # Get the events file\n",
    "    events_file = dataset_layout.get(\n",
    "        subject=subject,\n",
    "        run=run_id,\n",
    "        task=task,\n",
    "        extension='tsv'\n",
    "    )[0]\n",
    "    events_df = pd.read_csv(events_file.path, sep='\\t')\n",
    "    events_dfs.append(events_df)\n"
   ]
  },
  {
   "cell_type": "code",
   "execution_count": 33,
   "id": "c57864e0-66b9-483c-99c7-c95dd3070028",
   "metadata": {},
   "outputs": [],
   "source": [
    "events_df = pd.read_csv(events_file.path, sep='\\t')\n",
    "events_df = events_df[events_df['stimulus'].str.endswith('png')]"
   ]
  },
  {
   "cell_type": "code",
   "execution_count": 40,
   "id": "be7221eb-e5fc-4ffd-b553-8df7ba6e2519",
   "metadata": {},
   "outputs": [
    {
     "data": {
      "text/html": [
       "<div>\n",
       "<style scoped>\n",
       "    .dataframe tbody tr th:only-of-type {\n",
       "        vertical-align: middle;\n",
       "    }\n",
       "\n",
       "    .dataframe tbody tr th {\n",
       "        vertical-align: top;\n",
       "    }\n",
       "\n",
       "    .dataframe thead th {\n",
       "        text-align: right;\n",
       "    }\n",
       "</style>\n",
       "<table border=\"1\" class=\"dataframe\">\n",
       "  <thead>\n",
       "    <tr style=\"text-align: right;\">\n",
       "      <th></th>\n",
       "      <th>onset</th>\n",
       "      <th>duration</th>\n",
       "      <th>class_id</th>\n",
       "      <th>response</th>\n",
       "      <th>response_time</th>\n",
       "      <th>same</th>\n",
       "      <th>stimulus</th>\n",
       "      <th>tr</th>\n",
       "    </tr>\n",
       "  </thead>\n",
       "  <tbody>\n",
       "    <tr>\n",
       "      <th>1</th>\n",
       "      <td>0.240146</td>\n",
       "      <td>2.0</td>\n",
       "      <td>174.0</td>\n",
       "      <td>NaN</td>\n",
       "      <td>0.000000</td>\n",
       "      <td>False</td>\n",
       "      <td>docs/cropped/174.Palm_Warbler_2.png</td>\n",
       "      <td>0.121901</td>\n",
       "    </tr>\n",
       "    <tr>\n",
       "      <th>4</th>\n",
       "      <td>4.364597</td>\n",
       "      <td>2.0</td>\n",
       "      <td>126.0</td>\n",
       "      <td>NaN</td>\n",
       "      <td>0.000000</td>\n",
       "      <td>False</td>\n",
       "      <td>docs/cropped/126.Nelson_Sharp_tailed_Sparrow_0...</td>\n",
       "      <td>2.215532</td>\n",
       "    </tr>\n",
       "    <tr>\n",
       "      <th>7</th>\n",
       "      <td>8.184927</td>\n",
       "      <td>2.0</td>\n",
       "      <td>130.0</td>\n",
       "      <td>NaN</td>\n",
       "      <td>0.000000</td>\n",
       "      <td>False</td>\n",
       "      <td>docs/cropped/130.Tree_Sparrow_6.png</td>\n",
       "      <td>4.154785</td>\n",
       "    </tr>\n",
       "    <tr>\n",
       "      <th>10</th>\n",
       "      <td>11.970066</td>\n",
       "      <td>2.0</td>\n",
       "      <td>130.0</td>\n",
       "      <td>True</td>\n",
       "      <td>23.621453</td>\n",
       "      <td>True</td>\n",
       "      <td>docs/cropped/130.Tree_Sparrow_8.png</td>\n",
       "      <td>6.076176</td>\n",
       "    </tr>\n",
       "    <tr>\n",
       "      <th>13</th>\n",
       "      <td>16.201529</td>\n",
       "      <td>2.0</td>\n",
       "      <td>117.0</td>\n",
       "      <td>NaN</td>\n",
       "      <td>0.000000</td>\n",
       "      <td>False</td>\n",
       "      <td>docs/cropped/117.Clay_colored_Sparrow_8.png</td>\n",
       "      <td>8.224126</td>\n",
       "    </tr>\n",
       "    <tr>\n",
       "      <th>...</th>\n",
       "      <td>...</td>\n",
       "      <td>...</td>\n",
       "      <td>...</td>\n",
       "      <td>...</td>\n",
       "      <td>...</td>\n",
       "      <td>...</td>\n",
       "      <td>...</td>\n",
       "      <td>...</td>\n",
       "    </tr>\n",
       "    <tr>\n",
       "      <th>323</th>\n",
       "      <td>431.727405</td>\n",
       "      <td>2.0</td>\n",
       "      <td>113.0</td>\n",
       "      <td>True</td>\n",
       "      <td>443.377654</td>\n",
       "      <td>True</td>\n",
       "      <td>docs/cropped/113.Baird_Sparrow_5.png</td>\n",
       "      <td>219.150967</td>\n",
       "    </tr>\n",
       "    <tr>\n",
       "      <th>326</th>\n",
       "      <td>435.702700</td>\n",
       "      <td>2.0</td>\n",
       "      <td>175.0</td>\n",
       "      <td>NaN</td>\n",
       "      <td>0.000000</td>\n",
       "      <td>False</td>\n",
       "      <td>docs/cropped/175.Pine_Warbler_4.png</td>\n",
       "      <td>221.168883</td>\n",
       "    </tr>\n",
       "    <tr>\n",
       "      <th>329</th>\n",
       "      <td>439.643819</td>\n",
       "      <td>2.0</td>\n",
       "      <td>172.0</td>\n",
       "      <td>NaN</td>\n",
       "      <td>0.000000</td>\n",
       "      <td>False</td>\n",
       "      <td>docs/cropped/172.Nashville_Warbler_6.png</td>\n",
       "      <td>223.169451</td>\n",
       "    </tr>\n",
       "    <tr>\n",
       "      <th>332</th>\n",
       "      <td>443.639441</td>\n",
       "      <td>2.0</td>\n",
       "      <td>168.0</td>\n",
       "      <td>NaN</td>\n",
       "      <td>0.000000</td>\n",
       "      <td>False</td>\n",
       "      <td>docs/cropped/168.Kentucky_Warbler_2.png</td>\n",
       "      <td>225.197686</td>\n",
       "    </tr>\n",
       "    <tr>\n",
       "      <th>335</th>\n",
       "      <td>447.490012</td>\n",
       "      <td>2.0</td>\n",
       "      <td>172.0</td>\n",
       "      <td>NaN</td>\n",
       "      <td>0.000000</td>\n",
       "      <td>False</td>\n",
       "      <td>docs/cropped/172.Nashville_Warbler_2.png</td>\n",
       "      <td>227.152290</td>\n",
       "    </tr>\n",
       "  </tbody>\n",
       "</table>\n",
       "<p>112 rows × 8 columns</p>\n",
       "</div>"
      ],
      "text/plain": [
       "          onset  duration  class_id response  response_time   same  \\\n",
       "1      0.240146       2.0     174.0      NaN       0.000000  False   \n",
       "4      4.364597       2.0     126.0      NaN       0.000000  False   \n",
       "7      8.184927       2.0     130.0      NaN       0.000000  False   \n",
       "10    11.970066       2.0     130.0     True      23.621453   True   \n",
       "13    16.201529       2.0     117.0      NaN       0.000000  False   \n",
       "..          ...       ...       ...      ...            ...    ...   \n",
       "323  431.727405       2.0     113.0     True     443.377654   True   \n",
       "326  435.702700       2.0     175.0      NaN       0.000000  False   \n",
       "329  439.643819       2.0     172.0      NaN       0.000000  False   \n",
       "332  443.639441       2.0     168.0      NaN       0.000000  False   \n",
       "335  447.490012       2.0     172.0      NaN       0.000000  False   \n",
       "\n",
       "                                              stimulus          tr  \n",
       "1                  docs/cropped/174.Palm_Warbler_2.png    0.121901  \n",
       "4    docs/cropped/126.Nelson_Sharp_tailed_Sparrow_0...    2.215532  \n",
       "7                  docs/cropped/130.Tree_Sparrow_6.png    4.154785  \n",
       "10                 docs/cropped/130.Tree_Sparrow_8.png    6.076176  \n",
       "13         docs/cropped/117.Clay_colored_Sparrow_8.png    8.224126  \n",
       "..                                                 ...         ...  \n",
       "323               docs/cropped/113.Baird_Sparrow_5.png  219.150967  \n",
       "326                docs/cropped/175.Pine_Warbler_4.png  221.168883  \n",
       "329           docs/cropped/172.Nashville_Warbler_6.png  223.169451  \n",
       "332            docs/cropped/168.Kentucky_Warbler_2.png  225.197686  \n",
       "335           docs/cropped/172.Nashville_Warbler_2.png  227.152290  \n",
       "\n",
       "[112 rows x 8 columns]"
      ]
     },
     "execution_count": 40,
     "metadata": {},
     "output_type": "execute_result"
    }
   ],
   "source": [
    "events_df"
   ]
  },
  {
   "cell_type": "code",
   "execution_count": 12,
   "id": "a12bdea9-57be-460d-8fb9-0df4c7fdf779",
   "metadata": {},
   "outputs": [
    {
     "data": {
      "application/vnd.jupyter.widget-view+json": {
       "model_id": "b6b50dd66db84e04bb0d927020d28051",
       "version_major": 2,
       "version_minor": 0
      },
      "text/plain": [
       "  0%|          | 0/6 [00:00<?, ?it/s]"
      ]
     },
     "metadata": {},
     "output_type": "display_data"
    }
   ],
   "source": [
    "# Load the fmri mask. \n",
    "# fmriPrep outputs one mask for every functional run, but they are mostly identical\n",
    "# This will grab the mask from the very first one\n",
    "mask_image = derivatives_layout.get(\n",
    "    subject=subject,\n",
    "    run=1,\n",
    "    task=task,\n",
    "    space=space, \n",
    "    desc='brain',\n",
    "    extension='nii.gz'\n",
    ")[0].get_image()\n",
    "fmri_mask = mask_image.get_fdata().astype(bool)\n",
    "H, W, D = fmri_mask.shape\n",
    "\n",
    "# Load the fmri data, apply the mask, then optionally resample the TRs if resample_tr is set\n",
    "fmri_batch = []\n",
    "for run_image in tqdm(run_images):\n",
    "    fmri_data = run_image.get_fdata()\n",
    "    fmri_data = fmri_data[fmri_mask]\n",
    "    if resample_tr != tr:\n",
    "        fmri_data = zoom(fmri_data, zoom=(1, tr / resample_tr))\n",
    "    fmri_batch.append(fmri_data)\n",
    "    "
   ]
  },
  {
   "cell_type": "code",
   "execution_count": 26,
   "id": "6046be5b-cebc-4748-8478-341cf0a4b198",
   "metadata": {},
   "outputs": [
    {
     "data": {
      "application/vnd.jupyter.widget-view+json": {
       "model_id": "d0032a1d67764b13a1fa6cf4e2e91dba",
       "version_major": 2,
       "version_minor": 0
      },
      "text/plain": [
       "interactive(children=(IntSlider(value=2, description='run_id', max=5), IntSlider(value=32, description='d', ma…"
      ]
     },
     "metadata": {},
     "output_type": "display_data"
    }
   ],
   "source": [
    "# Cell for visualizing the fMRI runs\n",
    "\n",
    "all_runs = np.concatenate(fmri_batch)\n",
    "mean, std = all_runs.mean(), all_runs.std()\n",
    "\n",
    "show_volume = np.zeros_like(fmri_mask, dtype=float)\n",
    "_, T = fmri_batch[0].shape\n",
    "\n",
    "@interact(run_id=(0, num_runs-1), d=(0, D-1), t=(0, T-1))\n",
    "def show(run_id, d, t):\n",
    "    show_volume[fmri_mask] = fmri_batch[run_id][:, t]\n",
    "    plt.figure(figsize=(8, 8))\n",
    "    plt.imshow(show_volume[:, :, d], cmap='gray', vmin=mean-2*std, vmax=mean+2*std)\n",
    "    plt.show()"
   ]
  },
  {
   "cell_type": "code",
   "execution_count": 42,
   "id": "64a6e13b",
   "metadata": {
    "collapsed": false,
    "jupyter": {
     "outputs_hidden": false
    },
    "pycharm": {
     "name": "#%%\n"
    }
   },
   "outputs": [
    {
     "data": {
      "application/vnd.jupyter.widget-view+json": {
       "model_id": "0d8e589bf88541ee97124bf4d98879de",
       "version_major": 2,
       "version_minor": 0
      },
      "text/plain": [
       "interactive(children=(IntSlider(value=2, description='run_id', max=5), Output()), _dom_classes=('widget-intera…"
      ]
     },
     "metadata": {},
     "output_type": "display_data"
    }
   ],
   "source": [
    "# Create the design matrices\n",
    "\n",
    "# Collect all conditions\n",
    "conditions = []\n",
    "for events_df in events_dfs:\n",
    "    for i, event in events_df.iterrows():\n",
    "        if not event['stimulus'].endswith('png'):\n",
    "            continue\n",
    "        condition_name = Path(event['stimulus']).stem.split('.')[1]\n",
    "        conditions.append(condition_name)\n",
    "conditions = list(set(conditions))\n",
    "conditions.sort()\n",
    "conditions = {condition: i for i, condition in enumerate(conditions)}\n",
    "C = len(conditions)\n",
    "\n",
    "# Construct the design matrices\n",
    "design_batch = []\n",
    "for run_id, events in enumerate(events_dfs):\n",
    "    V, T = fmri_batch[run_id].shape\n",
    "    design_matrix = np.zeros(shape=(T, C))\n",
    "    for id, event in events.iterrows():\n",
    "        if not event['stimulus'].endswith('png'):\n",
    "            continue\n",
    "        condition_name = Path(event['stimulus']).stem.split('.')[1]\n",
    "        c = conditions[condition_name]\n",
    "        if resample_tr == tr:\n",
    "            t = round(event.tr)\n",
    "        else:\n",
    "            t = round(event.tr / resample_tr)\n",
    "        design_matrix[t, c] = 1\n",
    "    design_batch.append(design_matrix)\n",
    "\n",
    "@interact(run_id=(0, len(design_batch)-1))\n",
    "def show(run_id):\n",
    "    design_matrix = design_batch[run_id]\n",
    "    print(design_matrix.sum())\n",
    "    plt.figure(figsize=(8, 8))\n",
    "    plt.xlabel('Conditions')\n",
    "    plt.ylabel('TRs')\n",
    "    plt.imshow(design_matrix)"
   ]
  },
  {
   "cell_type": "code",
   "execution_count": 18,
   "id": "c573939a-4d38-4694-a414-625e6b85d2be",
   "metadata": {},
   "outputs": [
    {
     "data": {
      "text/plain": [
       "array([3., 1., 1., 1., 6., 6., 3., 1., 1., 1., 1., 1., 1., 1., 3., 6., 3.,\n",
       "       1., 1., 1., 3., 3., 6., 1., 6., 1., 1., 1., 1., 3., 1., 6., 1., 6.,\n",
       "       1., 1., 1., 1., 3., 1., 1., 6., 1., 1., 1., 1., 1., 3., 3., 3., 1.,\n",
       "       1., 1., 1., 1., 6., 1., 3., 6., 3., 1., 1., 1., 6., 3., 1., 1., 6.,\n",
       "       1., 1., 1., 1., 3., 3., 1., 1., 6., 6., 1., 6., 1., 1., 1., 1., 3.,\n",
       "       1., 1., 1., 3., 6., 1., 1., 1., 1., 1., 6., 3., 1., 3., 3., 1., 6.,\n",
       "       1., 1., 1., 6., 1., 3., 1., 1., 1., 6., 6., 3., 1., 1., 1., 1., 3.,\n",
       "       6., 1., 1., 1., 1., 1., 1., 3., 3., 3., 6., 1., 6., 1., 3., 1., 1.,\n",
       "       1., 1., 1., 1., 1., 3., 1., 1., 3., 1., 3., 6., 1., 1., 1., 1., 1.,\n",
       "       3., 6., 1., 3., 1., 1., 1., 6., 1., 1., 3., 1., 1., 3., 1., 1., 6.,\n",
       "       3., 1., 1., 3., 6., 1., 1., 1., 6., 3., 1., 1., 1., 3., 6., 1., 1.,\n",
       "       1., 1., 1., 1., 3., 6., 3., 1., 1., 1., 6., 1., 1., 3., 6., 3., 6.,\n",
       "       1., 1., 1., 1., 6., 1., 1., 1., 6., 3., 1., 1., 3., 1., 1., 1., 3.,\n",
       "       1., 3., 6., 1., 6., 1., 1., 1., 1., 1., 3., 3., 1., 1., 3., 1., 6.,\n",
       "       1., 6., 3., 1., 1., 1., 3., 1., 1., 1., 1., 1., 6., 1., 3., 1., 3.,\n",
       "       1., 6., 1., 6., 1., 1., 1., 1., 3., 3., 1., 6., 1., 3., 1., 1., 6.,\n",
       "       1., 6., 3., 1., 1., 1., 6., 3., 1., 1., 1., 1., 6., 1., 3., 1., 1.,\n",
       "       1., 3., 1., 3., 1., 1., 1., 6., 1.])"
      ]
     },
     "execution_count": 18,
     "metadata": {},
     "output_type": "execute_result"
    }
   ],
   "source": [
    "np.concatenate(design_batch).sum(axis=0)"
   ]
  },
  {
   "cell_type": "code",
   "execution_count": 45,
   "id": "9fca45fb-41fd-42ca-ab84-4de080089a42",
   "metadata": {},
   "outputs": [
    {
     "name": "stdout",
     "output_type": "stream",
     "text": [
      "['desktop.ini', 'run1', 'run2', 'run3']\n"
     ]
    }
   ],
   "source": [
    "# Load previous results\n",
    "runs_path = dataset_path / 'derivatives_TC2See_prdgm/glmsingle'\n",
    "previous_runs = [p.name for p in runs_path.iterdir()]\n",
    "print(previous_runs)\n",
    "\n",
    "run_name = 'run3'\n",
    "output_path = runs_path / run_name\n",
    "results_glmsingle = load_results(output_path)"
   ]
  },
  {
   "cell_type": "code",
   "execution_count": 24,
   "id": "b555e2e7-1ac4-4dab-8964-3210a991a136",
   "metadata": {},
   "outputs": [
    {
     "data": {
      "text/plain": [
       "(149157, 672)"
      ]
     },
     "execution_count": 24,
     "metadata": {},
     "output_type": "execute_result"
    }
   ],
   "source": [
    "results_glmsingle['typed']['betasmd'].shape"
   ]
  },
  {
   "cell_type": "code",
   "execution_count": null,
   "id": "e04d72aa",
   "metadata": {
    "pycharm": {
     "name": "#%%\n"
    },
    "tags": []
   },
   "outputs": [],
   "source": [
    "# Or run GLMsingle from scratch\n",
    "\n",
    "break # set a new run name before running to avoid overwriting old results\n",
    "run_name = 'run_3'\n",
    "\n",
    "glmsingle_obj = GLM_single(dict(\n",
    "    wantlibrary=1,\n",
    "    wantglmdenoise=1,\n",
    "    wantfracridge=1,\n",
    "    wantfileoutputs=[1,1,1,1],\n",
    "    wantmemoryoutputs=[1,1,1,1],\n",
    "))\n",
    "\n",
    "pprint(glmsingle_obj.params)\n",
    "\n",
    "output_path = dataset_path / f'derivatives_TC2See_prdgm/glmsingle/{run_name}'\n",
    "results_glmsingle = glmsingle_obj.fit(\n",
    "    design=design_batch,\n",
    "    data=fmri_batch,\n",
    "    stimdur=2,\n",
    "    tr=resample_tr,\n",
    "    outputdir=str(output_path),\n",
    ")"
   ]
  },
  {
   "cell_type": "code",
   "execution_count": null,
   "id": "b8797d0f-e286-4842-a6f7-76b4c9d88cf7",
   "metadata": {
    "tags": []
   },
   "outputs": [],
   "source": [
    "# Save nifti files for results\n",
    "save_results(results_glmsingle, output_path, fmri_mask)"
   ]
  },
  {
   "cell_type": "code",
   "execution_count": 20,
   "id": "a166df89-1629-4eb6-bf61-13f2e898f61c",
   "metadata": {},
   "outputs": [
    {
     "data": {
      "application/vnd.jupyter.widget-view+json": {
       "model_id": "6b5c22af16fa463abb7c040eeed5c691",
       "version_major": 2,
       "version_minor": 0
      },
      "text/plain": [
       "interactive(children=(IntSlider(value=32, description='d_layer', max=65), Output()), _dom_classes=('widget-int…"
      ]
     },
     "metadata": {},
     "output_type": "display_data"
    }
   ],
   "source": [
    "# Inspect the results at different layers\n",
    "@interact(d_layer=(0, D-1))\n",
    "def plot_results_layer(d_layer):\n",
    "    plot_results(results_glmsingle, fmri_mask, d_layer)"
   ]
  },
  {
   "cell_type": "code",
   "execution_count": 69,
   "id": "e9fb18fa-aaa2-4792-8dda-ba0e0974ddcf",
   "metadata": {},
   "outputs": [],
   "source": [
    "import h5py\n",
    "from noise_ceiling import (\n",
    "    compute_ncsnr,\n",
    "    compute_nc,\n",
    "    group_repetitions\n",
    ")\n",
    "\n",
    "with h5py.File(dataset_path / f'derivatives_TC2See_prdgm/tc2see-v1-bold.hdf5', 'r') as f:\n",
    "    group = f['sub-01']\n",
    "    stimulus_ids = group['stimulus_ids'][:]\n",
    "    ids = np.array(list(conditions.keys()))\n",
    "        \n",
    "betas = results_glmsingle['typed']['betasmd']"
   ]
  },
  {
   "cell_type": "code",
   "execution_count": 70,
   "id": "51970584-904d-4d46-a324-71aba9aaf414",
   "metadata": {},
   "outputs": [
    {
     "name": "stdout",
     "output_type": "stream",
     "text": [
      "[]\n"
     ]
    },
    {
     "ename": "ValueError",
     "evalue": "need at least one array to concatenate",
     "output_type": "error",
     "traceback": [
      "\u001b[1;31m---------------------------------------------------------------------------\u001b[0m",
      "\u001b[1;31mValueError\u001b[0m                                Traceback (most recent call last)",
      "Input \u001b[1;32mIn [70]\u001b[0m, in \u001b[0;36m<cell line: 8>\u001b[1;34m()\u001b[0m\n\u001b[0;32m      5\u001b[0m         grouped_repetitions\u001b[38;5;241m.\u001b[39mappend(x)\n\u001b[0;32m      6\u001b[0m \u001b[38;5;28mprint\u001b[39m([x\u001b[38;5;241m.\u001b[39mshape \u001b[38;5;28;01mfor\u001b[39;00m x \u001b[38;5;129;01min\u001b[39;00m grouped_repetitions])\n\u001b[1;32m----> 8\u001b[0m ncsnr \u001b[38;5;241m=\u001b[39m \u001b[43mcompute_ncsnr\u001b[49m\u001b[43m(\u001b[49m\u001b[43mbetas\u001b[49m\u001b[38;5;241;43m.\u001b[39;49m\u001b[43mT\u001b[49m\u001b[43m,\u001b[49m\u001b[43m \u001b[49m\u001b[43mgrouped_repetitions\u001b[49m\u001b[43m)\u001b[49m\n\u001b[0;32m      9\u001b[0m nc \u001b[38;5;241m=\u001b[39m compute_nc(ncsnr, num_averages\u001b[38;5;241m=\u001b[39m\u001b[38;5;241m1\u001b[39m)\n\u001b[0;32m     10\u001b[0m nc_volume \u001b[38;5;241m=\u001b[39m np\u001b[38;5;241m.\u001b[39mzeros_like(fmri_mask, dtype\u001b[38;5;241m=\u001b[39m\u001b[38;5;28mfloat\u001b[39m)\n",
      "File \u001b[1;32mG:\\Github Repositories\\Google Drive\\Repositories\\fmri-preprocessing\\noise_ceiling.py:26\u001b[0m, in \u001b[0;36mcompute_ncsnr\u001b[1;34m(betas, stimulus_ids)\u001b[0m\n\u001b[0;32m     23\u001b[0m     \u001b[38;5;66;03m# stimulus_betas.var(axis=1, ddof=1) should work but it doesn't\u001b[39;00m\n\u001b[0;32m     24\u001b[0m     \u001b[38;5;66;03m# doing it manually instead...\u001b[39;00m\n\u001b[0;32m     25\u001b[0m     betas_var\u001b[38;5;241m.\u001b[39mappend(((stimulus_betas\u001b[38;5;241m.\u001b[39mmean(axis\u001b[38;5;241m=\u001b[39m\u001b[38;5;241m1\u001b[39m, keepdims\u001b[38;5;241m=\u001b[39m\u001b[38;5;28;01mTrue\u001b[39;00m) \u001b[38;5;241m-\u001b[39m stimulus_betas) \u001b[38;5;241m*\u001b[39m\u001b[38;5;241m*\u001b[39m \u001b[38;5;241m2\u001b[39m)\u001b[38;5;241m.\u001b[39msum(axis\u001b[38;5;241m=\u001b[39m\u001b[38;5;241m1\u001b[39m) \u001b[38;5;241m/\u001b[39m (num_repetitions \u001b[38;5;241m-\u001b[39m \u001b[38;5;241m1\u001b[39m))\n\u001b[1;32m---> 26\u001b[0m betas_var_mean \u001b[38;5;241m=\u001b[39m np\u001b[38;5;241m.\u001b[39mnanmean(\u001b[43mnp\u001b[49m\u001b[38;5;241;43m.\u001b[39;49m\u001b[43mconcatenate\u001b[49m\u001b[43m(\u001b[49m\u001b[43mbetas_var\u001b[49m\u001b[43m)\u001b[49m, axis\u001b[38;5;241m=\u001b[39m\u001b[38;5;241m0\u001b[39m)\n\u001b[0;32m     28\u001b[0m std_noise \u001b[38;5;241m=\u001b[39m np\u001b[38;5;241m.\u001b[39msqrt(betas_var_mean)\n\u001b[0;32m     30\u001b[0m std_signal \u001b[38;5;241m=\u001b[39m \u001b[38;5;241m1.\u001b[39m \u001b[38;5;241m-\u001b[39m betas_var_mean\n",
      "File \u001b[1;32m<__array_function__ internals>:5\u001b[0m, in \u001b[0;36mconcatenate\u001b[1;34m(*args, **kwargs)\u001b[0m\n",
      "\u001b[1;31mValueError\u001b[0m: need at least one array to concatenate"
     ]
    }
   ],
   "source": [
    "grouped_repetitions = []\n",
    "for i in range(2, 7):\n",
    "    x = group_repetitions(ids, num_repetitions=i)\n",
    "    if x is not None:\n",
    "        grouped_repetitions.append(x)\n",
    "print([x.shape for x in grouped_repetitions])\n",
    "\n",
    "ncsnr = compute_ncsnr(betas.T, grouped_repetitions)\n",
    "nc = compute_nc(ncsnr, num_averages=1)\n",
    "nc_volume = np.zeros_like(fmri_mask, dtype=float)\n",
    "nc_volume[fmri_mask] = nc"
   ]
  },
  {
   "cell_type": "code",
   "execution_count": 65,
   "id": "a75335bc-f70a-467c-8573-13790c4e1a8c",
   "metadata": {},
   "outputs": [
    {
     "data": {
      "application/vnd.jupyter.widget-view+json": {
       "model_id": "b046f1a043b14d7b893c496a67198cd6",
       "version_major": 2,
       "version_minor": 0
      },
      "text/plain": [
       "interactive(children=(IntSlider(value=32, description='d', max=65), Output()), _dom_classes=('widget-interact'…"
      ]
     },
     "metadata": {},
     "output_type": "display_data"
    }
   ],
   "source": [
    "D = nc_volume.shape[2]\n",
    "@interact(d=(0, D-1), original=True)\n",
    "def show(d):\n",
    "    plt.figure(figsize=(12, 12))\n",
    "    plt.imshow(nc_volume[:, :, d], cmap='jet', vmin=0., vmax=50,)"
   ]
  }
 ],
 "metadata": {
  "kernelspec": {
   "display_name": "fmri-preprocessing",
   "language": "python",
   "name": "fmri-preprocessing"
  },
  "language_info": {
   "codemirror_mode": {
    "name": "ipython",
    "version": 3
   },
   "file_extension": ".py",
   "mimetype": "text/x-python",
   "name": "python",
   "nbconvert_exporter": "python",
   "pygments_lexer": "ipython3",
   "version": "3.8.8"
  }
 },
 "nbformat": 4,
 "nbformat_minor": 5
}
