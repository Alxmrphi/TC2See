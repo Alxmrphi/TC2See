{
 "cells": [
  {
   "cell_type": "code",
   "execution_count": 4,
   "id": "8c822b7b-bdf1-4694-9b11-0dddff071a6a",
   "metadata": {},
   "outputs": [],
   "source": [
    "%load_ext autoreload\n",
    "%autoreload 2\n",
    "\n",
    "import os\n",
    "import sys\n",
    "import time\n",
    "from pprint import pprint\n",
    "from pathlib import Path\n",
    "from random import randint\n",
    "\n",
    "import numpy as np\n",
    "import pandas as pd\n",
    "import matplotlib.pyplot as plt\n",
    "from ipywidgets import interact\n",
    "from tqdm.notebook import tqdm\n",
    "import nibabel as nib\n",
    "import glmsingle\n",
    "from glmsingle.glmsingle import GLM_single\n",
    "import bids\n",
    "from bids import BIDSLayout\n",
    "from scipy.ndimage import zoom, binary_dilation\n",
    "from scipy.io import loadmat\n",
    "import h5py\n",
    "import nibabel as nib\n",
    "import re\n",
    "\n",
    "dir2 = os.path.abspath('..')\n",
    "dir1 = os.path.dirname(dir2)\n",
    "if not dir1 in sys.path: \n",
    "    sys.path.append(dir1)\n",
    "    \n",
    "from noise_ceiling import (\n",
    "    compute_ncsnr,\n",
    "    compute_nc,\n",
    "    group_repetitions\n",
    ")"
   ]
  },
  {
   "cell_type": "code",
   "execution_count": 5,
   "id": "eb51e3f7-6efa-4d5d-8ffe-fef43905e070",
   "metadata": {},
   "outputs": [],
   "source": [
    "dataset_root = Path('D:\\Datasets')"
   ]
  },
  {
   "cell_type": "code",
   "execution_count": 9,
   "id": "fa27483d-a225-4ae8-9e2c-897876770e73",
   "metadata": {},
   "outputs": [],
   "source": [
    "tc2see_version = 3 # [1, 2]\n",
    "dataset_path = dataset_root / f\"TC2See_v{tc2see_version}\"\n",
    "derivatives_path = dataset_path / \"derivatives_TC2See_prdgm\"\n",
    "num_runs = 6\n",
    "\n",
    "hcp_path = dataset_root / 'HCP-MMP1/HCP-MMP1'"
   ]
  },
  {
   "cell_type": "code",
   "execution_count": 32,
   "id": "247270cf-2879-463a-a3f1-3044b5deb125",
   "metadata": {},
   "outputs": [
    {
     "data": {
      "text/plain": [
       "(163842,)"
      ]
     },
     "execution_count": 32,
     "metadata": {},
     "output_type": "execute_result"
    }
   ],
   "source": [
    "from nibabel.freesurfer.io import read_annot, read_geometry, read_label, read_morph_data\n",
    "\n",
    "lh_fsavg_labels, lh_fsavg_ctab, lh_fsavg_names = read_annot(hcp_path / 'lh.HCPMMP1.annot')\n",
    "rh_fsavg_labels, rh_fsavg_ctab, rh_fsavg_names = read_annot(hcp_path / 'rh.HCPMMP1.annot')\n",
    "\n",
    "lh_fsavg_labels.shape"
   ]
  },
  {
   "cell_type": "code",
   "execution_count": 31,
   "id": "8ca081bb-160a-400b-bbfa-ce8a651186e6",
   "metadata": {},
   "outputs": [
    {
     "data": {
      "text/plain": [
       "(154347, 3)"
      ]
     },
     "execution_count": 31,
     "metadata": {},
     "output_type": "execute_result"
    }
   ],
   "source": [
    "from nibabel.gifti import gifti, giftiio\n",
    "\n",
    "subject = 'sub-03'\n",
    "surf = 'pial'\n",
    "\n",
    "surf_path = derivatives_path / f'fmriprep/{subject}/anat/{subject}_hemi-L_{surf}.surf.gii'\n",
    "\n",
    "nib.load(surf_path).agg_data()[0].shape"
   ]
  }
 ],
 "metadata": {
  "kernelspec": {
   "display_name": "fmri-preprocessing",
   "language": "python",
   "name": "fmri-preprocessing"
  },
  "language_info": {
   "codemirror_mode": {
    "name": "ipython",
    "version": 3
   },
   "file_extension": ".py",
   "mimetype": "text/x-python",
   "name": "python",
   "nbconvert_exporter": "python",
   "pygments_lexer": "ipython3",
   "version": "3.8.8"
  }
 },
 "nbformat": 4,
 "nbformat_minor": 5
}
