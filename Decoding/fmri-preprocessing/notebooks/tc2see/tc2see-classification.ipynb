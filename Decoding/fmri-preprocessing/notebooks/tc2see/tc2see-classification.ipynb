{
 "cells": [
  {
   "cell_type": "code",
   "execution_count": null,
   "id": "9db9298c-f88d-4be0-b86c-1a4b622e4d69",
   "metadata": {},
   "outputs": [],
   "source": [
    "%load_ext autoreload\n",
    "%autoreload 2\n",
    "\n",
    "import os\n",
    "import sys\n",
    "import time\n",
    "from pprint import pprint\n",
    "from pathlib import Path\n",
    "from random import randint\n",
    "\n",
    "import numpy as np\n",
    "import torch\n",
    "import pandas as pd\n",
    "import matplotlib.pyplot as plt\n",
    "from ipywidgets import interact\n",
    "from tqdm.notebook import tqdm\n",
    "import nibabel as nib\n",
    "import glmsingle\n",
    "from glmsingle.glmsingle import GLM_single\n",
    "import bids\n",
    "from bids import BIDSLayout\n",
    "from scipy.ndimage import zoom, binary_dilation\n",
    "import h5py\n",
    "import nibabel as nib\n",
    "from einops import rearrange\n",
    "\n",
    "dir2 = os.path.abspath('..')\n",
    "dir1 = os.path.dirname(dir2)\n",
    "if not dir1 in sys.path: \n",
    "    sys.path.append(dir1)\n",
    "    \n",
    "from tc2see import load_data"
   ]
  },
  {
   "cell_type": "code",
   "execution_count": null,
   "id": "2d6988ec-402e-4054-8baa-321f48a8af69",
   "metadata": {},
   "outputs": [],
   "source": [
    "dataset_root = Path('E:\\\\fmri_processing\\\\results')\n",
    "tc2see_version = 1 # [1, 2]\n",
    "#dataset_path = dataset_root / f\"TC2See_v{tc2see_version}\"\n",
    "dataset_path = dataset_root\n",
    "derivatives_path = dataset_path / 'derivatives_TC2See_prdgm'"
   ]
  },
  {
   "cell_type": "code",
   "execution_count": null,
   "id": "e8fceaa5-d087-469b-a0ae-82dceb0ac2fb",
   "metadata": {},
   "outputs": [],
   "source": [
    "tr = 1.97\n",
    "bold, stimulus_ids, mask, affine = load_data(\n",
    "    derivatives_path / 'tc2see-v3-bold.hdf5', \n",
    "    'sub-03', \n",
    "    tr_offset=4 / tr,\n",
    "    run_normalize='linear_trend',\n",
    "    interpolation=False\n",
    ")\n",
    "bold.shape"
   ]
  },
  {
   "cell_type": "code",
   "execution_count": null,
   "id": "f788eb4d-cc65-4c5e-a303-05b6e0a846cc",
   "metadata": {},
   "outputs": [],
   "source": [
    "nc_file = 'noise_ceiling/sub-01/sub-01__time-linspace_0_6_13__interpolation-false__noise-ceiling.nii.gz'\n",
    "nc_series = nib.load(derivatives_path / nc_file).get_fdata()\n",
    "nc_volume = nc_series[..., 8]\n",
    "nc_volume[:, :, :5] = 0.\n",
    "nc = nc_volume[mask]\n",
    "nc.shape\n",
    "\n",
    "nc_threshold = 25.\n",
    "X = bold[:, nc > nc_threshold]"
   ]
  },
  {
   "cell_type": "code",
   "execution_count": null,
   "id": "c4917774-d704-4dc0-a958-18033ba68d56",
   "metadata": {},
   "outputs": [],
   "source": [
    "stimulus_images = h5py.File(derivatives_path / 'stimulus-images.hdf5', \"r\")\n",
    "image_names = list(stimulus_images.keys())\n",
    "image_names = [image_names[i] for i in stimulus_ids]\n",
    "image_names = np.array(image_names)\n",
    "\n",
    "images = [stimulus_images[name]['data'][:] for name in image_names]\n",
    "bird_class = np.array([stimulus_images[name].attrs['class_id'] for name in image_names])\n",
    "bird_superclass = (bird_class > 131).astype(int)\n",
    "\n",
    "Y = np.unique(bird_class, return_inverse=True)[1]\n",
    "#Y = bird_superclass\n",
    "\n",
    "ids = np.arange(Y.shape[0])\n",
    "np.random.shuffle(ids)\n",
    "Y = Y[ids]"
   ]
  },
  {
   "cell_type": "code",
   "execution_count": null,
   "id": "859463a1-79e1-4dc8-949a-699f9d8ea64e",
   "metadata": {},
   "outputs": [],
   "source": []
  },
  {
   "cell_type": "code",
   "execution_count": null,
   "id": "ab544165-90bf-4cae-8311-3fa41b11e5e7",
   "metadata": {},
   "outputs": [],
   "source": [
    "Y_train.shape"
   ]
  },
  {
   "cell_type": "code",
   "execution_count": null,
   "id": "31a8c5f4-4007-4809-843a-2a1646058d9f",
   "metadata": {},
   "outputs": [],
   "source": [
    "from sklearn.linear_model import LogisticRegression, RidgeClassifier\n",
    "from sklearn.model_selection import KFold\n",
    "\n",
    "folds = KFold(n_splits=5, shuffle=True, random_state=0)\n",
    "Y_pred = np.zeros_like(Y)\n",
    "for train_ids, val_ids in tqdm(folds.split(X)):\n",
    "    X_train, Y_train = X[train_ids], Y[train_ids]\n",
    "    X_val, Y_val = X[val_ids], Y[val_ids]\n",
    "    \n",
    "    #model = LogisticRegression(solver='lbfgs', max_iter=1000)\n",
    "    model = RidgeClassifier(alpha=1000)\n",
    "    model.fit(X_train, Y_train)\n",
    "    Y_pred[val_ids] = model.predict(X_val)\n",
    "    \n",
    "from sklearn import metrics\n",
    "metrics.accuracy_score(Y, Y_pred)"
   ]
  },
  {
   "cell_type": "code",
   "execution_count": null,
   "id": "b9bf01cf-406e-47af-8121-f607267abc7b",
   "metadata": {},
   "outputs": [],
   "source": []
  },
  {
   "cell_type": "code",
   "execution_count": null,
   "id": "c2f9ec82-5b6c-4f6b-b31f-e84176ac64f3",
   "metadata": {},
   "outputs": [],
   "source": [
    "model.score(Y, Y_pred)"
   ]
  },
  {
   "cell_type": "code",
   "execution_count": null,
   "id": "2d09ba9d-22f9-423b-90c4-a854e8239ddf",
   "metadata": {},
   "outputs": [],
   "source": [
    "Y_pred.shape"
   ]
  },
  {
   "cell_type": "code",
   "execution_count": null,
   "id": "19eaa6f4-8d2f-43b8-8b6b-3fb875b29f83",
   "metadata": {},
   "outputs": [],
   "source": [
    "from sklearn.datasets import load_iris\n",
    "from sklearn.linear_model import LogisticRegression\n",
    "A, B = load_iris(return_X_y=True)\n",
    "A.shape, B.shape\n",
    "B"
   ]
  }
 ],
 "metadata": {
  "kernelspec": {
   "display_name": "Python 3",
   "language": "python",
   "name": "python3"
  },
  "language_info": {
   "codemirror_mode": {
    "name": "ipython",
    "version": 3
   },
   "file_extension": ".py",
   "mimetype": "text/x-python",
   "name": "python",
   "nbconvert_exporter": "python",
   "pygments_lexer": "ipython3",
   "version": "3.10.11"
  }
 },
 "nbformat": 4,
 "nbformat_minor": 5
}
