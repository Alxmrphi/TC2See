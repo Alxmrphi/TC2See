{
 "cells": [
  {
   "cell_type": "code",
   "execution_count": 1,
   "id": "edbde893-fc50-4847-bc9f-77e0fc441462",
   "metadata": {},
   "outputs": [],
   "source": [
    "%load_ext autoreload\n",
    "%autoreload 2\n",
    "\n",
    "import os\n",
    "import sys\n",
    "import time\n",
    "from pprint import pprint\n",
    "from pathlib import Path\n",
    "from random import randint\n",
    "\n",
    "import numpy as np\n",
    "import torch\n",
    "import pandas as pd\n",
    "import matplotlib.pyplot as plt\n",
    "from ipywidgets import interact\n",
    "from tqdm.notebook import tqdm\n",
    "import nibabel as nib\n",
    "import glmsingle\n",
    "from glmsingle.glmsingle import GLM_single\n",
    "import bids\n",
    "from bids import BIDSLayout\n",
    "from scipy.ndimage import zoom, binary_dilation\n",
    "import h5py\n",
    "import nibabel as nib\n",
    "from einops import rearrange\n",
    "\n",
    "dir2 = os.path.abspath('..')\n",
    "dir1 = os.path.dirname(dir2)\n",
    "if not dir1 in sys.path: \n",
    "    sys.path.append(dir1)\n",
    "    \n",
    "from tc2see import load_data\n",
    "from utils import rand_cmap"
   ]
  },
  {
   "cell_type": "code",
   "execution_count": 2,
   "id": "ba7bccf7-f965-4701-906a-dc1aa2517cfe",
   "metadata": {},
   "outputs": [],
   "source": [
    "dataset_root = Path('D:\\\\Datasets')\n",
    "tc2see_version = 3 # [1, 2]\n",
    "dataset_path = dataset_root / f\"TC2See_v{tc2see_version}\"\n",
    "derivatives_path = dataset_path / 'derivatives_TC2See_prdgm'"
   ]
  },
  {
   "cell_type": "code",
   "execution_count": 53,
   "id": "01f03424-8aaa-49cf-b8b6-e0d821dce14a",
   "metadata": {},
   "outputs": [
    {
     "name": "stderr",
     "output_type": "stream",
     "text": [
      "  0%|                                                                                                                                                                                                                                              | 0/6 [00:00<?, ?it/s]G:\\Github Repositories\\Google Drive\\Repositories\\fmri-preprocessing\\tc2see.py:61: RuntimeWarning: invalid value encountered in true_divide\n",
      "100%|██████████████████████████████████████████████████████████████████████████████████████████████████████████████████████████████████████████████████████████████████████████████████████████████████████████████████████████████████████| 6/6 [00:00<00:00,  6.63it/s]\n",
      "G:\\Github Repositories\\Google Drive\\Repositories\\fmri-preprocessing\\tc2see.py:67: RuntimeWarning: Mean of empty slice\n",
      "g:\\python_env\\fmri-preprocessing\\lib\\site-packages\\numpy\\lib\\nanfunctions.py:1670: RuntimeWarning: Degrees of freedom <= 0 for slice.\n",
      "  var = nanvar(a, axis=axis, dtype=dtype, out=out, ddof=ddof,\n",
      "100%|██████████████████████████████████████████████████████████████████████████████████████████████████████████████████████████████████████████████████████████████████████████████████████████████████████████████████████████████████████| 6/6 [00:00<00:00,  7.19it/s]\n",
      "100%|██████████████████████████████████████████████████████████████████████████████████████████████████████████████████████████████████████████████████████████████████████████████████████████████████████████████████████████████████████| 6/6 [00:00<00:00,  6.91it/s]\n",
      "100%|██████████████████████████████████████████████████████████████████████████████████████████████████████████████████████████████████████████████████████████████████████████████████████████████████████████████████████████████████████| 6/6 [00:00<00:00,  6.93it/s]\n",
      "100%|██████████████████████████████████████████████████████████████████████████████████████████████████████████████████████████████████████████████████████████████████████████████████████████████████████████████████████████████████████| 6/6 [00:00<00:00,  7.32it/s]\n",
      "100%|██████████████████████████████████████████████████████████████████████████████████████████████████████████████████████████████████████████████████████████████████████████████████████████████████████████████████████████████████████| 6/6 [00:00<00:00,  7.11it/s]\n",
      "100%|██████████████████████████████████████████████████████████████████████████████████████████████████████████████████████████████████████████████████████████████████████████████████████████████████████████████████████████████████████| 6/6 [00:00<00:00,  6.95it/s]\n",
      "100%|██████████████████████████████████████████████████████████████████████████████████████████████████████████████████████████████████████████████████████████████████████████████████████████████████████████████████████████████████████| 6/6 [00:00<00:00,  7.40it/s]\n",
      "100%|██████████████████████████████████████████████████████████████████████████████████████████████████████████████████████████████████████████████████████████████████████████████████████████████████████████████████████████████████████| 6/6 [00:00<00:00,  6.96it/s]\n",
      "100%|██████████████████████████████████████████████████████████████████████████████████████████████████████████████████████████████████████████████████████████████████████████████████████████████████████████████████████████████████████| 6/6 [00:00<00:00,  7.03it/s]\n",
      "100%|██████████████████████████████████████████████████████████████████████████████████████████████████████████████████████████████████████████████████████████████████████████████████████████████████████████████████████████████████████| 6/6 [00:00<00:00,  7.21it/s]\n",
      "100%|██████████████████████████████████████████████████████████████████████████████████████████████████████████████████████████████████████████████████████████████████████████████████████████████████████████████████████████████████████| 6/6 [00:00<00:00,  7.24it/s]\n"
     ]
    }
   ],
   "source": [
    "subject = 'sub-03'\n",
    "tr_offsets = [0, 1, 2, 3, 4, 5, 6, 7, 8, 9, 10, 11,]\n",
    "bold, stimulus_ids, mask, affine = load_data(\n",
    "    derivatives_path / f'tc2see-v{tc2see_version}-bold.hdf5', \n",
    "    subject,\n",
    "    tr_offset=tr_offsets,\n",
    "    run_normalize='linear_trend',\n",
    "    interpolation=False\n",
    ")\n"
   ]
  },
  {
   "cell_type": "code",
   "execution_count": 54,
   "id": "2da0c37a-b058-40b9-a658-5f3a56f9aa61",
   "metadata": {},
   "outputs": [
    {
     "data": {
      "text/plain": [
       "(188290,)"
      ]
     },
     "execution_count": 54,
     "metadata": {},
     "output_type": "execute_result"
    }
   ],
   "source": [
    "#nc_file = 'noise_ceiling/sub-01/sub-01__time-linspace_0_6_13__interpolation-false__noise-ceiling.nii.gz'\n",
    "nc_file = f'noise_ceiling/{subject}/{subject}__noise-ceiling.nii.gz'\n",
    "nc_series = nib.load(derivatives_path / nc_file).get_fdata()\n",
    "component = 4 #8\n",
    "nc_volume = nc_series[..., component]\n",
    "nc_volume[:, :, :5] = 0.\n",
    "nc = nc_volume[mask]\n",
    "nc.shape"
   ]
  },
  {
   "cell_type": "code",
   "execution_count": 70,
   "id": "de471cf6-234a-4427-be08-bed5504a1f09",
   "metadata": {},
   "outputs": [],
   "source": [
    "nc_threshold = 10.\n",
    "bold_best = bold[..., nc > nc_threshold]\n",
    "bold_best_nan = np.isnan(bold_best)\n",
    "bold_best[bold_best_nan] = 0.\n",
    "bold_best_nan.sum()\n",
    "X = rearrange(bold_best, 't p v -> (p v) t')"
   ]
  },
  {
   "cell_type": "code",
   "execution_count": 71,
   "id": "77aaec6c-ec4b-4a6c-a33e-f007dad6de03",
   "metadata": {},
   "outputs": [
    {
     "data": {
      "text/plain": [
       "PCA(n_components=0.5)"
      ]
     },
     "execution_count": 71,
     "metadata": {},
     "output_type": "execute_result"
    }
   ],
   "source": [
    "from sklearn.decomposition import PCA\n",
    "\n",
    "n_components = 3\n",
    "pca = PCA(0.5)\n",
    "pca.fit(X)"
   ]
  },
  {
   "cell_type": "code",
   "execution_count": 72,
   "id": "65b181dd-8048-46c8-8aab-7938f425a8ba",
   "metadata": {},
   "outputs": [
    {
     "data": {
      "image/png": "[encoded data removed]",
      "text/plain": [
       "<Figure size 432x288 with 1 Axes>"
      ]
     },
     "metadata": {
      "needs_background": "light"
     },
     "output_type": "display_data"
    }
   ],
   "source": [
    "components = pca.components_\n",
    "for i, component in enumerate(components):\n",
    "    plt.plot(tr_offsets, component, label=f'PC{i+1}')\n",
    "plt.legend()\n",
    "plt.show()"
   ]
  },
  {
   "cell_type": "code",
   "execution_count": 73,
   "id": "464fac0c-4736-4e5e-ae5d-e4b56f7bc783",
   "metadata": {},
   "outputs": [
    {
     "data": {
      "text/plain": [
       "(12, 384, 184)"
      ]
     },
     "execution_count": 73,
     "metadata": {},
     "output_type": "execute_result"
    }
   ],
   "source": [
    "bold_best.shape"
   ]
  },
  {
   "cell_type": "code",
   "execution_count": 75,
   "id": "c564c5bf-99ce-4655-96a6-3c6e54cefce1",
   "metadata": {},
   "outputs": [
    {
     "data": {
      "text/plain": [
       "0.5665453128181205"
      ]
     },
     "execution_count": 75,
     "metadata": {},
     "output_type": "execute_result"
    }
   ],
   "source": [
    "from sklearn.metrics import r2_score\n",
    "\n",
    "y = pca.transform(X)\n",
    "X_pred = pca.inverse_transform(y)\n",
    "\n",
    "r2_score(X, X_pred)"
   ]
  },
  {
   "cell_type": "code",
   "execution_count": 76,
   "id": "c719ed93-230c-4563-9758-22694e147707",
   "metadata": {},
   "outputs": [],
   "source": [
    "t, p, v = bold_best.shape\n",
    "y_voxel = rearrange(y, '(p v) c -> c p v', p=p, v=v)"
   ]
  },
  {
   "cell_type": "code",
   "execution_count": 106,
   "id": "a0830829-1f36-4d68-aec3-9b5426e6a189",
   "metadata": {},
   "outputs": [
    {
     "data": {
      "text/plain": [
       "<matplotlib.collections.PathCollection at 0x1dba69f2760>"
      ]
     },
     "execution_count": 106,
     "metadata": {},
     "output_type": "execute_result"
    },
    {
     "data": {
      "image/png": "[encoded data removed]",
      "text/plain": [
       "<Figure size 432x288 with 1 Axes>"
      ]
     },
     "metadata": {
      "needs_background": "light"
     },
     "output_type": "display_data"
    }
   ],
   "source": [
    "plt.scatter(y[:, 1], y[:, 2])"
   ]
  },
  {
   "cell_type": "code",
   "execution_count": 121,
   "id": "ef1df410-613e-4824-847c-f76d90699aa4",
   "metadata": {},
   "outputs": [
    {
     "data": {
      "image/png": "[encoded data removed]",
      "text/plain": [
       "<Figure size 432x288 with 1 Axes>"
      ]
     },
     "metadata": {
      "needs_background": "light"
     },
     "output_type": "display_data"
    }
   ],
   "source": [
    "y_norm = np.linalg.norm(y, axis=1)\n",
    "y_mean = y[y_norm > 2].mean(axis=0)\n",
    "\n",
    "plt.plot(tr_offsets, pca.inverse_transform(y_mean))\n",
    "plt.show()"
   ]
  },
  {
   "cell_type": "code",
   "execution_count": 123,
   "id": "a3db91ba-6b9a-49eb-89d1-dc56b64b39a1",
   "metadata": {},
   "outputs": [
    {
     "data": {
      "text/plain": [
       "array([-3.86802554e-08,  2.88490671e-08,  3.95520345e-08, -1.13492282e-08,\n",
       "       -2.82771140e-09, -1.18191075e-08,  4.57275995e-08,  2.49693990e-08,\n",
       "       -6.83830379e-08, -4.86481078e-08,  2.33336794e-09,  2.84331776e-08],\n",
       "      dtype=float32)"
      ]
     },
     "execution_count": 123,
     "metadata": {},
     "output_type": "execute_result"
    }
   ],
   "source": [
    "X.mean(axis=0)"
   ]
  }
 ],
 "metadata": {
  "kernelspec": {
   "display_name": "fmri-preprocessing",
   "language": "python",
   "name": "fmri-preprocessing"
  },
  "language_info": {
   "codemirror_mode": {
    "name": "ipython",
    "version": 3
   },
   "file_extension": ".py",
   "mimetype": "text/x-python",
   "name": "python",
   "nbconvert_exporter": "python",
   "pygments_lexer": "ipython3",
   "version": "3.8.8"
  }
 },
 "nbformat": 4,
 "nbformat_minor": 5
}
