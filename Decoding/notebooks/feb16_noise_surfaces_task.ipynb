{
 "cells": [
  {
   "cell_type": "markdown",
   "metadata": {},
   "source": [
    "## Feb 16 2024\n",
    "\n",
    "Topics\n",
    "* Volumes vs Surfaces [pial, white, inflated] (freeview)\n",
    "* fsnative vs fsaverage (T1w -> MNI)\n",
    "* surface mesh vs surface data (cells below)\n",
    "* plot sub 29 NC vals as overlay onto fsaverage inflated left hemisphere (freeview)\n",
    "* configure -> 90%, explore\n",
    "* mri_surf2surf conversion"
   ]
  },
  {
   "cell_type": "code",
   "execution_count": null,
   "metadata": {},
   "outputs": [],
   "source": [
    "import numpy as np \n",
    "import matplotlib.pyplot as plt\n",
    "import nilearn\n",
    "import nibabel as nib\n",
    "import nilearn.surface \n",
    "\n",
    "from nilearn.image import load_img, mean_img\n",
    "from nilearn import surface, plotting\n",
    "from pathlib import Path\n",
    "\n",
    "sub_num = '29'\n",
    "vis_dir = Path(f'E:/fmri_processing/results/visualization/sub-{sub_num}')\n",
    "anat_dir = Path(f'E:/fmri_processing/results/derivatives_TC2See/fmriprep/sub-{sub_num}/anat')\n",
    "# surf_dir = Path(f'E:/fmri_processing/results/derivatives_TC2See_new/sourcedata/freesurfer/sub-{sub_num}/surf')"
   ]
  },
  {
   "cell_type": "markdown",
   "metadata": {},
   "source": [
    "### Volumes vs Surfaces (freeview)"
   ]
  },
  {
   "cell_type": "markdown",
   "metadata": {},
   "source": [
    "### `fsnative` vs `fsaverage` \n",
    "\n",
    "In volume-based MRI, we have functional data and the anatomical data. The anatomical data is a high-resolution scan of a specific participant's brain. This is called the T1(w) image. The MNI template is an average of > 100 brains that we map to so that results from multiple subjects are alignable. \n",
    "\n",
    "In the surface world, using Freesurfer, making surfaces that are subject-specific, this is called `fsnative` space. So a specific subject's T1w VOLUME is converted into a surface that we say is in `fsnative` SPACE. \n",
    "\n",
    "Going from T1w to MNI (average template) in terms of surfaces is going from `fsnative` -> `fsaverage` (`fsaverage` brain is based on MNI template)."
   ]
  },
  {
   "cell_type": "markdown",
   "metadata": {},
   "source": [
    "### Surfaces: mesh vs overlays\n",
    "\n",
    "A surface is defined by two arrays:\n",
    "* vertex array of coordinates\n",
    "* list of triangles (pointing to triplets of vertices in the vertex array)\n",
    "\n",
    "Can get best understanding via playing around with examples..."
   ]
  },
  {
   "cell_type": "markdown",
   "metadata": {},
   "source": [
    "### Nilearn Surfaces\n",
    "\n",
    "* `nilearn.surface.load_surf_mesh`\n",
    "* `nilearn.surface.load_surf_data`\n",
    "\n",
    "The function `load_surf_mesh` loads the surface data that has (a) list of vertex locations and (b) the triangle (\"faces\") triplets that say which three vertices make up a specific triangle in the mesh.\n",
    "\n",
    "The function `load_surf_data` loads a value of interest to be plotted on each of the vertices. The triangles and structure are already set up to give the 'shape' of the brain, but the colours to be plotted on there are called 'overlays' and you lay the values over the mesh. \n",
    "\n",
    "The noise ceiling values are numerical values that go on top of each vertex point, so this is an 'overlay'."
   ]
  },
  {
   "cell_type": "code",
   "execution_count": null,
   "metadata": {},
   "outputs": [],
   "source": [
    "import nilearn\n",
    "from nilearn import datasets, surface\n",
    "fsaverage = datasets.fetch_surf_fsaverage(mesh='fsaverage')"
   ]
  },
  {
   "cell_type": "code",
   "execution_count": null,
   "metadata": {},
   "outputs": [],
   "source": [
    "fsaverage_infl_left = surface.load_surf_mesh(fsaverage.infl_left)\n",
    "print(len(fsaverage_infl_left))\n",
    "vertices, triangles = fsaverage_infl_left\n",
    "print(f\"{vertices.shape = }\")\n",
    "print(f\"{triangles.shape = }\")"
   ]
  },
  {
   "cell_type": "markdown",
   "metadata": {},
   "source": [
    "## Overlays\n",
    "\n",
    "If (vertices, triangles) define a surface mesh, then when we plot, we want to put a single value on each vertex in the mesh. This means an overlay should have the same number of vertices as the vertex list of the mesh and a single column value to plot. That's what the noise ceiling surface values are. \n",
    "\n",
    "But first, how to go from a volume of noise ceilings to a surface?\n",
    "\n",
    "* Load the NC volumes previously calculated\n",
    "* Load a surface file that `fMRIprep` calculates and has saved (we'll use `pial_lh`)\n",
    "* Use the `surface.vol_to_surf` function to derive an overlay\n",
    "* Use `nibabel` to save it as a GIfTI image (surface-file representation)\n",
    "* Save"
   ]
  },
  {
   "cell_type": "code",
   "execution_count": null,
   "metadata": {},
   "outputs": [],
   "source": [
    "nc_file = vis_dir / f'sub-{sub_num}_nc_volume.nii.gz'\n",
    "pial_lh =     Path(anat_dir / f'sub-{sub_num}_hemi-L_pial.surf.gii')\n",
    "# inflated_lh = Path(surf_dir / 'lh.inflated')\n",
    "# white_lh =    Path(anat_dir / f'sub-{sub_num}_hemi-L_white.surf.gii')\n",
    "#white_other =  Path(surf_dir / 'lh.white')\n",
    "\n",
    "nc_img = load_img(nc_file)\n",
    "nc_overlay = surface.vol_to_surf(nc_img, pial_lh) \n",
    "\n",
    "img = nib.gifti.GiftiImage(darrays=[nib.gifti.GiftiDataArray(nc_overlay.astype(np.float32))])\n",
    "\n",
    "# CHANGE THIS TO SAVE INTO SPECIFIC SUBJECT FOLDER and call it by the correct hemisphere, fsnative, and that its derived from white matter surface reference\n",
    "# nib.save(img, vis_dir / f'sub{sub_num}_nc_pial_lh_fsnative.gii')"
   ]
  },
  {
   "cell_type": "code",
   "execution_count": null,
   "metadata": {},
   "outputs": [],
   "source": [
    "# IGNORE\n",
    "#inflated_lh_surf = nilearn.surface.load_surf_mesh(inflated_lh)\n",
    "#pial_lh_surf = nilearn.surface.load_surf_mesh(pial_lh)\n",
    "#white_lh_surf = nilearn.surface.load_surf_mesh(white_lh)\n",
    "\n",
    "#print(inflated_lh_surf[0].shape)\n",
    "#print(pial_lh_surf[0].shape)\n",
    "#print(white_lh_surf[0].shape)"
   ]
  },
  {
   "cell_type": "markdown",
   "metadata": {},
   "source": [
    "Notice this is in `fsnative` space, which is subject-specific.\n",
    "\n",
    "Remember above we imported `fsaverage_infl_left` ? We can see how many vertices are in that mesh and compare it to subject 29 noise ceiling vertex count. "
   ]
  },
  {
   "cell_type": "code",
   "execution_count": null,
   "metadata": {},
   "outputs": [],
   "source": [
    "fsaverage_vertices, fsaverage_triangles = fsaverage_infl_left\n",
    "print(fsaverage_vertices.shape)\n",
    "print(nc_overlay.shape)"
   ]
  },
  {
   "cell_type": "markdown",
   "metadata": {},
   "source": [
    "The values are different (as expected). If we want to be able to compare multiple subjects, we need to convert subject-specific overlay to one that fits on the `fsaverage` template. You do this by using a Freesurfer program called `mri_surf2surf`. This isn't available in Python and is best run from the terminal directly."
   ]
  },
  {
   "cell_type": "markdown",
   "metadata": {},
   "source": [
    "### mri_surf2surf\n",
    "\n",
    "Need to have a folder with `fsaverage` subject and then the subject-specific Freesurfer folder for each subject (found in `/freesurfer/sourcedata/`). Then need to set environment variable $SUBJECTS_DIR to point to that location so that `mri_surf2surf` knows where to look for the data.\n",
    "\n",
    "\n",
    "It should look like\n",
    "\n",
    "    - foldername\n",
    "      - fsaverage \n",
    "      - sub-01\n",
    "      - sub-02\n",
    "      - etc ...\n",
    "\n",
    "And the `sourcedata` freesurfer data should be in each of those folders (not the fMRIprep outputs). Then in terminal set the environment variable SUBJECTS_DIR to `foldername` path by doing the following in the terminal:\n",
    "\n",
    "`SUBJECTS_DIR=/path/to/foldername`\n",
    "\n",
    "Then you're ready to run the command below (which you can do individually as not that many subjects or put it in a loop). Just be careful if doing a loop that you're not accidentally cross-loading different subjects data (by updating the source subject ID but not the sval location, for example).\n",
    "\n",
    "    mri_surf2surf --srcsubject sub-29 \\ \n",
    "                  --trgsubject fsaverage \\\n",
    "                  --hemi lh \\\n",
    "                  --sval /Users/alxmrphi/Documents/Code/src/sub29_nc_fsnative.gii \\ \n",
    "                  --tval /Users/alxmrphi/Documents/Data/BirdData/sub-29/misc/sub29_nc_fsaverage.gii\n",
    "\n",
    "\n",
    "`srcsubject` = source subject (here, subject 29)\n",
    "\n",
    "`trgsubject` = target subject (here, fsaverage because we want to convert from sub-29 -> fsaverage)\n",
    "\n",
    "`hemi` = hemisphere (everything is done per-hemisphere with surfaces because they're not modelled as being connected)\n",
    "\n",
    "`sval` = source value (what file do we want to convert?)\n",
    "\n",
    "`tval` = target value (what is the filename we want the output to be saved to?)\n",
    "\n",
    "Once this runs without issue, the new file will be saved into the location specified by `tval`."
   ]
  },
  {
   "cell_type": "markdown",
   "metadata": {},
   "source": [
    "### Histogram of high signal ROIs"
   ]
  },
  {
   "cell_type": "markdown",
   "metadata": {},
   "source": [
    "##### ROI lookup"
   ]
  },
  {
   "cell_type": "code",
   "execution_count": null,
   "metadata": {},
   "outputs": [],
   "source": [
    "roi_lookup = {1: \"V1\", 2: \"MST\", 3: \"V6\", 4: \"V2\", 5: \"V3\", 6: \"V4\", 7: \"V8\", 8: \"4\", 9: \"3b\", 10:\t\"FEF\", 11:\t\"PEF\", 12:\t\"55b\", 13:\t\"V3A\", 14:\t\"RSC\", 15:\t\"POS2\", 16:\t\"V7\", 17:\t\"IPS1\", 18:\t\"FFC\", 19:\t\"V3B\", 20:\t\"LO1\", 21:\t\"LO2\", 22:\t\"PIT\", 23:\t\"MT\", 24:\t\"A1\", 25:\t\"PSL\", 26:\t\"SFL\", 27:\t\"PCV\", 28:\t\"STV\", 29:\t\"7Pm\", 30:\t\"7m\", 31:\t\"POS1\", 32:\t\"23d\", 33:\t\"v23ab\", 34:\t\"d23ab\", 35:\t\"31pv\", 36:\t\"5m\", 37:\t\"5mv\", 38:\t\"23c\", 39:\t\"5L\", 40:\t\"24dd\", 41:\t\"24dv\", 42:\t\"7AL\", 43:\t\"SCEF\", 44:\t\"6ma\", 45:\t\"7Am\", 46:\t\"7Pl\", 47:\t\"7PC\", 48:\t\"LIPv\", 49:\t\"VIP\", 50:\t\"MIP\", 51:\t\"1\", 52:\t\"2\", 53:\t\"3a\", 54:\t\"6d\", 55:\t\"6mp\", 56:\t\"6v\", 57:\t\"p24pr\", 58:\t\"33pr\", 59:\t\"a24pr\", 60:\t\"p32pr\", 61:\t\"a24\", 62:\t\"d32\", 63:\t\"8BM\", 64:\t\"p32\", 65:\t\"10r\", 66:\t\"47m\", 67:\t\"8Av\", 68:\t\"8Ad\", 69:\t\"9m\", 70:\t\"8BL\", 71:\t\"9p\", 72:\t\"10d\", 73:\t\"8C\", 74:\t\"44\", 75:\t\"45\", 76:\t\"47l\", 77:\t\"a47r\", 78:\t\"6r\", 79:\t\"IFJa\", 80:\t\"IFJp\", 81:\t\"IFSp\", 82:\t\"IFSa\", 83:\t\"p9-46v\", 84:\t\"46\", 85:\t\"a9-46v\", 86:\t\"9-46d\", 87:\t\"9a\", 88:\t\"10v\", 89:\t\"a10p\", 90:\t\"10pp\", 91:\t\"11l\", 92:\t\"13l\", 93:\t\"OFC\", 94:\t\"47s\", 95:\t\"LIPd\", 96:\t\"6a\", 97:\t\"i6-8\", 98:\t\"s6-8\", 99:\t\"43\", 100: \"OP4\", 101: \"OP1\", 102: \"OP2-3\", 103: \"52\", 104: \"RI\", 105: \"PFcm\", 106: \"PoI2\", 107: \"TA2\", 108: \"FOP4\", 109: \"MI\", 110: \"Pir\", 111: \"AVI\", 112: \"AAIC\", 113: \"FOP1\", 114: \"FOP3\", 115: \"FOP2\", 116: \"PFt\", 117: \"AIP\", 118: \"EC\", 119: \"PreS\", 120: \"H\", 121: \"ProS\", 122: \"PeEc\", 123: \"STGa\", 124: \"PBelt\", 125: \"A5\", 126: \"PHA1\", 127: \"PHA3\", 128: \"STSda\", 129: \"STSdp\", 130: \"STSvp\", 131: \"TGd\", 132: \"TE1a\", 133: \"TE1p\", 134: \"TE2a\", 135: \"TF\", 136: \"TE2p\", 137: \"PHT\", 138: \"PH\", 139: \"TPOJ1\", 140: \"TPOJ2\", 141: \"TPOJ3\", 142: \"DVT\", 143: \"PGp\", 144: \"IP2\", 145: \"IP1\", 146: \"IP0\", 147: \"PFop\", 148: \"PF\", 149: \"PFm\", 150: \"PGi\", 151: \"PGs\", 152: \"V6A\", 153: \"VMV1\", 154: \"VMV3\", 155: \"PHA2\", 156: \"V4t\", 157: \"FST\", 158: \"V3CD\", 159: \"LO3\", 160: \"VMV2\", 161: \"31pd\", 162: \"31a\", 163: \"VVC\", 164: \"25\", 165: \"s32\", 166: \"pOFC\", 167: \"PoI1\", 168: \"Ig\", 169: \"FOP5\", 170: \"p10p\", 171: \"p47r\", 172: \"TGv\", 173: \"MBelt\", 174: \"LBelt\", 175: \"A4\", 176: \"STSva\", 177: \"TE1m\", 178: \"PI\", 179: \"a32pr\", 180: \"p24\"}"
   ]
  },
  {
   "cell_type": "markdown",
   "metadata": {},
   "source": [
    "##### Histogram for single participant"
   ]
  },
  {
   "cell_type": "code",
   "execution_count": null,
   "metadata": {},
   "outputs": [],
   "source": [
    "sub_nc_fsaverage = nilearn.surface.load_surf_data(f'E:/fmri_processing/results/visualization/fsaverage_pial/sub{sub_num}_nc_pial_lh_fsaverage.gii')\n",
    "glasser_annot = nilearn.surface.load_surf_data(Path('E:/fmri_processing/lh.HCPMMP1.annot'))\n",
    "\n",
    "percent_threshold = 95\n",
    "threshold = np.percentile(sub_nc_fsaverage, percent_threshold)\n",
    "mask_array = np.where(sub_nc_fsaverage > threshold, 1, 0)\n",
    "\n",
    "masked_glasser = glasser_annot * mask_array\n",
    "\n",
    "# Get unique values and their counts\n",
    "unique_values, counts = np.unique(masked_glasser[masked_glasser != 0], return_counts=True)\n",
    "\n",
    "num_rois = 40\n",
    "top_indices = np.argsort(counts)[-num_rois:]\n",
    "top_values = unique_values[top_indices]\n",
    "top_counts = counts[top_indices]\n",
    "\n",
    "top_values_str = [roi_lookup[val] for val in top_values]\n",
    "sorted_indices = sorted(range(len(top_values)), key=lambda k: top_values[k])\n",
    "\n",
    "# Set up a wider plot\n",
    "fig = plt.figure(figsize=(12, 6))\n",
    "\n",
    "# Plot the histogram of the top ten values with categorical labels in the original order\n",
    "plt.bar(np.array(top_values_str)[sorted_indices], np.array(top_counts)[sorted_indices])\n",
    "plt.xticks(top_values_str, rotation=50)\n",
    "plt.xlabel('ROIs')\n",
    "plt.ylabel(f'Per-ROI count')\n",
    "plt.title(f'Top 40 ROIs within top 5% of noise ceiling values')\n",
    "plt.show()"
   ]
  },
  {
   "cell_type": "markdown",
   "metadata": {},
   "source": [
    "##### Histograms for averaged expertise levels"
   ]
  },
  {
   "cell_type": "code",
   "execution_count": null,
   "metadata": {},
   "outputs": [],
   "source": [
    "low_score_subs = [str(val) if val >= 10 else '0' + str(val) for val in [6, 15, 20, 21, 23]]\n",
    "mod_score_subs = [str(val) if val >= 10 else '0' + str(val) for val in [5, 7, 10, 14, 17, 18, 19, 22]]\n",
    "high_score_subs = [str(val) if val >= 10 else '0' + str(val) for val in [8, 9, 11, 12, 16, 24]]\n",
    "\n",
    "low_score_surfs = []\n",
    "mod_score_surfs = []\n",
    "high_score_surfs = []\n",
    "\n",
    "for sub in low_score_subs:\n",
    "    sub_nc_fsaverage = nilearn.surface.load_surf_data(f'E:/fmri_processing/results/visualization/fsaverage_pial/sub{sub}_nc_pial_lh_fsaverage.gii')\n",
    "    low_score_surfs.append(sub_nc_fsaverage)\n",
    "for sub in mod_score_subs:\n",
    "    sub_nc_fsaverage = nilearn.surface.load_surf_data(f'E:/fmri_processing/results/visualization/fsaverage_pial/sub{sub}_nc_pial_lh_fsaverage.gii')\n",
    "    mod_score_surfs.append(sub_nc_fsaverage)\n",
    "for sub in high_score_subs:\n",
    "    sub_nc_fsaverage = nilearn.surface.load_surf_data(f'E:/fmri_processing/results/visualization/fsaverage_pial/sub{sub}_nc_pial_lh_fsaverage.gii')\n",
    "    high_score_surfs.append(sub_nc_fsaverage)\n",
    "\n",
    "low_score_surfs = np.array(low_score_surfs)\n",
    "mod_score_surfs = np.array(mod_score_surfs)\n",
    "high_score_surfs = np.array(high_score_surfs)\n",
    "\n",
    "low_score_surfs = np.mean(low_score_surfs, axis=0)\n",
    "mod_score_surfs = np.mean(mod_score_surfs, axis=0)\n",
    "high_score_surfs = np.mean(high_score_surfs, axis=0)\n",
    "\n",
    "img = nib.gifti.GiftiImage(darrays=[nib.gifti.GiftiDataArray(low_score_surfs.astype(np.float32))])\n",
    "nib.save(img, f'E:/fmri_processing/results/visualization/low_score_avg_5subs_lh_fsaverage.gii')\n",
    "img = nib.gifti.GiftiImage(darrays=[nib.gifti.GiftiDataArray(mod_score_surfs.astype(np.float32))])\n",
    "nib.save(img, f'E:/fmri_processing/results/visualization/mod_score_avg_8subs_lh_fsaverage.gii')\n",
    "img = nib.gifti.GiftiImage(darrays=[nib.gifti.GiftiDataArray(high_score_surfs.astype(np.float32))])\n",
    "nib.save(img, f'E:/fmri_processing/results/visualization/high_score_avg_6subs_lh_fsaverage.gii')\n",
    "\n",
    "levels = ['Low', 'Moderate', 'High']\n",
    "num_participants = [len(low_score_subs), len(mod_score_subs), len(high_score_subs)]\n",
    "\n",
    "for i, (surf, level) in enumerate(zip([low_score_surfs, mod_score_surfs, high_score_surfs], levels)):\n",
    "    glasser_annot = nilearn.surface.load_surf_data(Path('E:/fmri_processing/lh.HCPMMP1.annot'))\n",
    "    percent_threshold = 95\n",
    "    threshold = np.percentile(surf, percent_threshold)\n",
    "    mask_array = np.where(surf > threshold, 1, 0)\n",
    "\n",
    "    masked_glasser = glasser_annot * mask_array\n",
    "\n",
    "    # Get unique values and their counts\n",
    "    unique_values, counts = np.unique(masked_glasser[masked_glasser != 0], return_counts=True)\n",
    "\n",
    "    num_rois = 25\n",
    "    top_indices = np.argsort(counts)[-num_rois:]\n",
    "    top_values = unique_values[top_indices]\n",
    "    top_counts = counts[top_indices]\n",
    "\n",
    "    top_values_str = [roi_lookup[val] for val in top_values]\n",
    "    sorted_indices = sorted(range(len(top_values)), key=lambda k: top_values[k])\n",
    "\n",
    "    # Set up a wider plot\n",
    "    fig = plt.figure(figsize=(12, 6))\n",
    "\n",
    "    # Plot the histogram of the top ten values with categorical labels in the original order\n",
    "    plt.bar(np.array(top_values_str)[sorted_indices], np.array(top_counts)[sorted_indices])\n",
    "    plt.xticks(top_values_str, rotation=50)\n",
    "    plt.xlabel('ROIs')\n",
    "    plt.ylim(0, 2000)\n",
    "    plt.ylabel(f'Count of NC Over {percent_threshold}% Threshold in ROI')\n",
    "    plt.title(f'Top {num_rois} ROIs for the average of {level} Score Participants ({num_participants[i]} ppl)')\n",
    "    plt.show()"
   ]
  },
  {
   "cell_type": "markdown",
   "metadata": {},
   "source": [
    "# TASK (over next week)\n",
    "\n",
    "We want all subject data to be created on `fsnative` and `fsaverage` surfaces and saved in their data folders."
   ]
  },
  {
   "cell_type": "markdown",
   "metadata": {},
   "source": [
    "## Can ignore everything below for now, but there if you want to play around."
   ]
  },
  {
   "cell_type": "markdown",
   "metadata": {},
   "source": [
    "### Plotting with Python\n",
    "\n",
    "* Make sure `plotly` is installed for interactive plots (otherwise defaults to static `matplotlib`)\n",
    "* `!pip install plotly`"
   ]
  },
  {
   "cell_type": "code",
   "execution_count": null,
   "metadata": {},
   "outputs": [],
   "source": [
    "inflated_lh_file = Path(surf_dir / 'lh.inflated')\n",
    "pial_lh = Path(anat_dir / f'sub-{sub_num}_hemi-L_pial.surf.gii')\n",
    "white_lh = Path(anat_dir / f'sub-{sub_num}_hemi-L_white.surf.gii')\n",
    "curve_left_file = surf_dir / 'lh.curv'\n",
    "curv_left = surface.load_surf_data(curve_left_file)\n",
    "curv_left_sign = np.sign(curv_left)\n",
    "sub_nc_fsaverage = nilearn.surface.load_surf_data(vis_dir / f'sub{sub_num}_nc_fsaverage.gii')"
   ]
  },
  {
   "cell_type": "code",
   "execution_count": null,
   "metadata": {},
   "outputs": [],
   "source": [
    "fig = plotting.plot_surf_stat_map(\n",
    "    inflated_lh_file, nc_overlay, hemi='left',\n",
    "    bg_map=curv_left_sign,\n",
    "    threshold=5.5,\n",
    "    engine='plotly'\n",
    ")\n",
    "fig.show()"
   ]
  },
  {
   "cell_type": "markdown",
   "metadata": {},
   "source": []
  },
  {
   "cell_type": "code",
   "execution_count": null,
   "metadata": {},
   "outputs": [],
   "source": [
    "fig = plotting.plot_surf_stat_map(\n",
    "    pial_lh, nc_overlay, hemi='left',\n",
    "    bg_map=curv_left_sign,\n",
    "    threshold=5.5,\n",
    "    engine='plotly'\n",
    ")\n",
    "fig.show()"
   ]
  },
  {
   "cell_type": "code",
   "execution_count": null,
   "metadata": {},
   "outputs": [],
   "source": []
  },
  {
   "cell_type": "markdown",
   "metadata": {},
   "source": [
    "* Going to fsaverage space from fsnative\n",
    "https://neurostars.org/t/transform-from-fsaverage-to-fsnative/16568"
   ]
  },
  {
   "cell_type": "code",
   "execution_count": null,
   "metadata": {},
   "outputs": [],
   "source": [
    "nib.load()"
   ]
  },
  {
   "cell_type": "code",
   "execution_count": null,
   "metadata": {},
   "outputs": [],
   "source": [
    "sub_nc_fsaverage = nilearn.surface.load_surf_data(vis_dir / f'sub{sub_num}_nc_fsaverage.gii')"
   ]
  },
  {
   "cell_type": "code",
   "execution_count": null,
   "metadata": {},
   "outputs": [],
   "source": []
  },
  {
   "cell_type": "code",
   "execution_count": null,
   "metadata": {},
   "outputs": [],
   "source": [
    "curv_left = surface.load_surf_data(fsaverage.curv_left)\n",
    "curv_left_sign = np.sign(curv_left)"
   ]
  },
  {
   "cell_type": "code",
   "execution_count": null,
   "metadata": {},
   "outputs": [],
   "source": [
    "from nilearn import plotting\n",
    "\n",
    "fig = plotting.plot_surf_stat_map(\n",
    "    fsaverage.infl_right, sub_nc_fsaverage, hemi='left',\n",
    "    title='Surface left hemisphere', colorbar=True,\n",
    "    threshold=1., bg_map=curv_left_sign,\n",
    ")\n",
    "fig.show()"
   ]
  },
  {
   "cell_type": "markdown",
   "metadata": {},
   "source": []
  },
  {
   "cell_type": "code",
   "execution_count": null,
   "metadata": {},
   "outputs": [],
   "source": [
    "from nilearn import plotting\n",
    "\n",
    "fig = plotting.plot_surf_stat_map(\n",
    "    fsaverage.infl_left, sub_nc_fsaverage, hemi='left',\n",
    "    title='Surface left hemisphere', colorbar=True,\n",
    "    threshold=5.3, bg_map=curv_left_sign, bg_on_data=True,\n",
    "    engine='plotly'\n",
    ")\n",
    "fig.show()"
   ]
  },
  {
   "cell_type": "code",
   "execution_count": null,
   "metadata": {},
   "outputs": [],
   "source": [
    "glasser_lh_path = Path('/Users/alxmrphi/Downloads/lh.HCPMMP1.annot')\n",
    "glasser = nilearn.surface.load_surf_data(glasser_lh_path)\n",
    "glasser.shape"
   ]
  },
  {
   "cell_type": "code",
   "execution_count": null,
   "metadata": {},
   "outputs": [],
   "source": [
    "destrieux_atlas = datasets.fetch_atlas_surf_destrieux()\n",
    "parcellation = destrieux_atlas['map_right']\n",
    "# these are the regions we want to outline\n",
    "regions_dict = {b'G_postcentral': 'Postcentral gyrus',\n",
    "                b'G_precentral': 'Precentral gyrus'}\n",
    "\n",
    "# get indices in atlas for these labels\n",
    "regions_indices = [\n",
    "    np.where(np.array(destrieux_atlas['labels']) == region)[0][0]\n",
    "    for region in regions_dict\n",
    "]\n",
    "\n",
    "labels = list(regions_dict.values())"
   ]
  },
  {
   "cell_type": "code",
   "execution_count": null,
   "metadata": {},
   "outputs": [],
   "source": [
    "np.where(np.array(destrieux_atlas['labels']) == b'G_postcentral')"
   ]
  },
  {
   "cell_type": "code",
   "execution_count": null,
   "metadata": {},
   "outputs": [],
   "source": [
    "V1_idx = 1\n",
    "V2_idx = 4\n",
    "V3_idx = 5\n",
    "V4_idx = 6\n",
    "V8_idx = 7\n",
    "\n",
    "labels = ['V1', 'V2', 'V3', 'V4', 'V8']\n",
    "regions_indices = [1,4,5,6,7]"
   ]
  },
  {
   "cell_type": "code",
   "execution_count": null,
   "metadata": {},
   "outputs": [],
   "source": [
    "from nilearn import plotting\n",
    "\n",
    "curve_left_file = Path(surf_dir / 'lh.curv')\n",
    "curv_left = surface.load_surf_data(curve_left_file)\n",
    "curv_left_sign = np.sign(curv_left)\n",
    "\n",
    "\n",
    "fig = plotting.plot_surf_stat_map(\n",
    "    fsaverage.infl_left, sub_nc_fsaverage, hemi='left',\n",
    "    title='Surface left hemisphere', colorbar=True, view='posterior',\n",
    "    threshold=5.3, bg_map=curv_left_sign, bg_on_data=True)\n",
    "\n",
    "plotting.plot_surf_contours(fsaverage.infl_left, glasser, labels=labels,\n",
    "                            levels=regions_indices, figure=fig,\n",
    "                            legend=True, engine='plotly')\n",
    "plotting.show()"
   ]
  },
  {
   "cell_type": "code",
   "execution_count": null,
   "metadata": {},
   "outputs": [],
   "source": [
    "view = plotting.view_surf(fsaverage.infl_left, sub_nc_fsaverage, threshold='98%',\n",
    "                          bg_map=fsaverage.sulc_left)\n",
    "\n",
    "view"
   ]
  },
  {
   "cell_type": "code",
   "execution_count": null,
   "metadata": {},
   "outputs": [],
   "source": [
    "view = plotting.view_surf(fsaverage.infl_left, sub_nc_fsaverage, threshold='98%',\n",
    "                          bg_map=fsaverage.sulc_left)\n",
    "\n",
    "plotting.plot_surf_contours(fsaverage.infl_left, glasser, labels=labels,\n",
    "                            levels=regions_indices, figure=view,\n",
    "                            legend=True, engine='plotly',\n",
    "                            views=['lateral'])"
   ]
  }
 ],
 "metadata": {
  "kernelspec": {
   "display_name": "alex",
   "language": "python",
   "name": "python3"
  },
  "language_info": {
   "codemirror_mode": {
    "name": "ipython",
    "version": 3
   },
   "file_extension": ".py",
   "mimetype": "text/x-python",
   "name": "python",
   "nbconvert_exporter": "python",
   "pygments_lexer": "ipython3",
   "version": "3.11.7"
  }
 },
 "nbformat": 4,
 "nbformat_minor": 2
}
